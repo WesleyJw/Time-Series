{
 "cells": [
  {
   "cell_type": "markdown",
   "metadata": {},
   "source": [
    "# Forecast stock market shares\n",
    "\n",
    "Author: PhD. [Wesley Lima](https://github.com/WesleyJw)\n",
    "\n",
    "Code tested on:\n",
    "\n",
    "- Tensorflow: 2.2.0\n",
    "- Keras: 2.4.3\n",
    "\n",
    "This is a basic project to forecast the stock price (Day's open) for General Eletric Company (GE) and Petrobras. To forecast day's open price we considering the closing price, intraday high, intraday low and volume as input variables.  This data is a time serie available from [Finance yahoo](https://finance.yahoo.com/quote/GE/history/).\n",
    "\n",
    "## 1. Data Science Questions\n",
    "\n",
    "### 1.1 What is the problem? \n",
    "\n",
    "I want to invest some money in the shares of the general electric and Petrobras companies and I want to be more precise at the right time to invest.\n",
    "\n",
    "### 1.2 What's the ideal solution?\n",
    "\n",
    "Know the next day stock open price, using fourteen days before and closing price, intraday high, intraday low and volume as input variables.  \n",
    "\n",
    "### 1.3 How can I do this with Data Science and/or Machine Learning? \n",
    "\n",
    "Create a model to forecast the next day stock open price.\n",
    "\n",
    "### 1.4 How will this solution be used in production? \n",
    "\n",
    "This solution will be used from a web app that the user can input day and the another variables and give a graph with time series trend and open price value estimated. \n",
    "\n",
    "### 1.5 How will I know it worked?\n",
    "\n",
    "The precision of the model will be calculated by root mean square error and residual analysis. \n",
    "\n",
    "## 2. Business questions\n",
    "\n",
    "- 1. Is there a significant trend in the increase in days's open stock price?\n",
    "\n",
    "- 2. Is there a significant seasonal effect on days's open stock price?\n",
    "\n",
    "- 3. Is it possible to build a model to predict next days's open stock price?"
   ]
  },
  {
   "cell_type": "markdown",
   "metadata": {},
   "source": [
    "## 3. LSTM Model Fit"
   ]
  },
  {
   "cell_type": "code",
   "execution_count": 48,
   "metadata": {},
   "outputs": [],
   "source": [
    "## Libs\n",
    "import numpy as np\n",
    "import pandas as pd\n",
    "from pandas.tseries.offsets import CustomBusinessDay\n",
    "from pandas.tseries.holiday import USFederalHolidayCalendar\n",
    "\n",
    "from matplotlib import pyplot as plt\n",
    "import seaborn as sns\n",
    "\n",
    "from sklearn.preprocessing import StandardScaler\n",
    "from tensorflow.keras.models import Sequential\n",
    "from tensorflow.keras.layers import LSTM\n",
    "from tensorflow.keras.layers import Dense, Dropout"
   ]
  },
  {
   "cell_type": "markdown",
   "metadata": {},
   "source": [
    "### 3.1 Model Fit to General Eletric Company"
   ]
  },
  {
   "cell_type": "code",
   "execution_count": 10,
   "metadata": {},
   "outputs": [
    {
     "name": "stdout",
     "output_type": "stream",
     "text": [
      "\n",
      " >>>>> Data shape: \n",
      " (5738, 7)\n",
      "\n",
      " >>>>> Data Info: \n",
      "\n",
      "<class 'pandas.core.frame.DataFrame'>\n",
      "RangeIndex: 5738 entries, 0 to 5737\n",
      "Data columns (total 7 columns):\n",
      " #   Column     Non-Null Count  Dtype  \n",
      "---  ------     --------------  -----  \n",
      " 0   Date       5738 non-null   object \n",
      " 1   Open       5738 non-null   float64\n",
      " 2   High       5738 non-null   float64\n",
      " 3   Low        5738 non-null   float64\n",
      " 4   Close      5738 non-null   float64\n",
      " 5   Adj Close  5738 non-null   float64\n",
      " 6   Volume     5738 non-null   int64  \n",
      "dtypes: float64(5), int64(1), object(1)\n",
      "memory usage: 313.9+ KB\n",
      "\n",
      " >>>>> Head Data: \n",
      "\n"
     ]
    },
    {
     "data": {
      "text/html": [
       "<div>\n",
       "<style scoped>\n",
       "    .dataframe tbody tr th:only-of-type {\n",
       "        vertical-align: middle;\n",
       "    }\n",
       "\n",
       "    .dataframe tbody tr th {\n",
       "        vertical-align: top;\n",
       "    }\n",
       "\n",
       "    .dataframe thead th {\n",
       "        text-align: right;\n",
       "    }\n",
       "</style>\n",
       "<table border=\"1\" class=\"dataframe\">\n",
       "  <thead>\n",
       "    <tr style=\"text-align: right;\">\n",
       "      <th></th>\n",
       "      <th>Date</th>\n",
       "      <th>Open</th>\n",
       "      <th>High</th>\n",
       "      <th>Low</th>\n",
       "      <th>Close</th>\n",
       "      <th>Adj Close</th>\n",
       "      <th>Volume</th>\n",
       "    </tr>\n",
       "  </thead>\n",
       "  <tbody>\n",
       "    <tr>\n",
       "      <th>0</th>\n",
       "      <td>2000-01-04</td>\n",
       "      <td>377.564117</td>\n",
       "      <td>379.487183</td>\n",
       "      <td>369.230774</td>\n",
       "      <td>369.230774</td>\n",
       "      <td>203.009735</td>\n",
       "      <td>2875782</td>\n",
       "    </tr>\n",
       "    <tr>\n",
       "      <th>1</th>\n",
       "      <td>2000-01-05</td>\n",
       "      <td>368.589752</td>\n",
       "      <td>376.923065</td>\n",
       "      <td>365.544861</td>\n",
       "      <td>368.589752</td>\n",
       "      <td>202.657303</td>\n",
       "      <td>3548064</td>\n",
       "    </tr>\n",
       "    <tr>\n",
       "      <th>2</th>\n",
       "      <td>2000-01-06</td>\n",
       "      <td>366.987183</td>\n",
       "      <td>376.762817</td>\n",
       "      <td>365.705139</td>\n",
       "      <td>373.517639</td>\n",
       "      <td>205.366714</td>\n",
       "      <td>2583516</td>\n",
       "    </tr>\n",
       "    <tr>\n",
       "      <th>3</th>\n",
       "      <td>2000-01-07</td>\n",
       "      <td>379.487183</td>\n",
       "      <td>389.423065</td>\n",
       "      <td>376.923065</td>\n",
       "      <td>387.980774</td>\n",
       "      <td>213.318863</td>\n",
       "      <td>2618382</td>\n",
       "    </tr>\n",
       "    <tr>\n",
       "      <th>4</th>\n",
       "      <td>2000-01-10</td>\n",
       "      <td>391.506409</td>\n",
       "      <td>395.032043</td>\n",
       "      <td>387.500000</td>\n",
       "      <td>387.820526</td>\n",
       "      <td>213.230606</td>\n",
       "      <td>1979445</td>\n",
       "    </tr>\n",
       "  </tbody>\n",
       "</table>\n",
       "</div>"
      ],
      "text/plain": [
       "         Date        Open        High  ...       Close   Adj Close   Volume\n",
       "0  2000-01-04  377.564117  379.487183  ...  369.230774  203.009735  2875782\n",
       "1  2000-01-05  368.589752  376.923065  ...  368.589752  202.657303  3548064\n",
       "2  2000-01-06  366.987183  376.762817  ...  373.517639  205.366714  2583516\n",
       "3  2000-01-07  379.487183  389.423065  ...  387.980774  213.318863  2618382\n",
       "4  2000-01-10  391.506409  395.032043  ...  387.820526  213.230606  1979445\n",
       "\n",
       "[5 rows x 7 columns]"
      ]
     },
     "execution_count": 10,
     "metadata": {},
     "output_type": "execute_result"
    }
   ],
   "source": [
    "# Get General eletric company Data\n",
    "data_ge = pd.read_csv(\"../datasets/GE.csv\")\n",
    "print(\"\\n\", 5*\">\", \"Data shape: \\n\", data_ge.shape)\n",
    "print(\"\\n\", 5*\">\", \"Data Info: \\n\")\n",
    "data_ge.info()\n",
    "print(\"\\n\", 5*\">\", \"Head Data: \\n\")\n",
    "data_ge.head()"
   ]
  },
  {
   "cell_type": "code",
   "execution_count": 13,
   "metadata": {},
   "outputs": [],
   "source": [
    "# Get dates for future plots\n",
    "train_dates = pd.to_datetime(data_ge[\"Date\"])"
   ]
  },
  {
   "cell_type": "code",
   "execution_count": 16,
   "metadata": {},
   "outputs": [
    {
     "name": "stdout",
     "output_type": "stream",
     "text": [
      "\n",
      " >>>>> Cols used to train: \n",
      " ['Open', 'High', 'Low', 'Close', 'Adj Close', 'Volume']\n"
     ]
    }
   ],
   "source": [
    "# Variables sfor training\n",
    "cols = list(data_ge)[1:7]\n",
    "print(\"\\n\", 5*\">\", \"Cols used to train: \\n\", cols)"
   ]
  },
  {
   "cell_type": "code",
   "execution_count": 17,
   "metadata": {},
   "outputs": [],
   "source": [
    "# transform to float\n",
    "df_for_training = data_ge[cols].astype(float)"
   ]
  },
  {
   "cell_type": "code",
   "execution_count": 21,
   "metadata": {},
   "outputs": [],
   "source": [
    "# LSTM uses sigmoid and tanh that are sensitive to magnitude so values need to be normalized\n",
    "# normalize the dataset\n",
    "scaler = StandardScaler()\n",
    "scaler = scaler.fit(df_for_training)\n",
    "df_for_training_scaled = scaler.transform(df_for_training)"
   ]
  },
  {
   "cell_type": "code",
   "execution_count": 46,
   "metadata": {},
   "outputs": [
    {
     "name": "stdout",
     "output_type": "stream",
     "text": [
      "trainX shape == (5724, 14, 6).\n",
      "trainY shape == (5724, 1).\n"
     ]
    }
   ],
   "source": [
    "# As required for LSTM networks, we require to reshape an input data into n_samples x timesteps x n_features.\n",
    "# In this example, the n_features is 5. We will make timesteps = 14 (past days data used for training).\n",
    "\n",
    "# Empty lists to be populated using formatted training data\n",
    "trainX = []\n",
    "trainY = []\n",
    "\n",
    "# Number of days we want to look into the future based on the past days.\n",
    "n_future = 1\n",
    "n_past = 14  # Number of past days we want to use to predict the future.\n",
    "\n",
    "# Reformat input data into a shape: (n_samples x timesteps x n_features)\n",
    "# In my example, my df_for_training_scaled has a shape (12823, 5)\n",
    "# 12823 refers to the number of data points and 5 refers to the columns (multi-variables).\n",
    "for i in range(n_past, len(df_for_training_scaled) - n_future + 1):\n",
    "    trainX.append(\n",
    "        df_for_training_scaled[i - n_past:i, 0:df_for_training.shape[1]])\n",
    "    trainY.append(df_for_training_scaled[i + n_future - 1:i + n_future, 0])\n",
    "\n",
    "trainX, trainY = np.array(trainX), np.array(trainY)\n",
    "\n",
    "print('trainX shape == {}.'.format(trainX.shape))\n",
    "print('trainY shape == {}.'.format(trainY.shape))"
   ]
  },
  {
   "cell_type": "code",
   "execution_count": 49,
   "metadata": {},
   "outputs": [
    {
     "name": "stderr",
     "output_type": "stream",
     "text": [
      "2022-10-23 06:49:25.521247: W tensorflow/stream_executor/platform/default/dso_loader.cc:64] Could not load dynamic library 'libcuda.so.1'; dlerror: libcuda.so.1: cannot open shared object file: No such file or directory\n",
      "2022-10-23 06:49:25.557274: W tensorflow/stream_executor/cuda/cuda_driver.cc:263] failed call to cuInit: UNKNOWN ERROR (303)\n",
      "2022-10-23 06:49:25.573955: I tensorflow/stream_executor/cuda/cuda_diagnostics.cc:156] kernel driver does not appear to be running on this host (wesley-ds): /proc/driver/nvidia/version does not exist\n",
      "2022-10-23 06:49:26.005392: I tensorflow/core/platform/cpu_feature_guard.cc:193] This TensorFlow binary is optimized with oneAPI Deep Neural Network Library (oneDNN) to use the following CPU instructions in performance-critical operations:  AVX2 FMA\n",
      "To enable them in other operations, rebuild TensorFlow with the appropriate compiler flags.\n"
     ]
    },
    {
     "name": "stdout",
     "output_type": "stream",
     "text": [
      "Model: \"sequential\"\n",
      "_________________________________________________________________\n",
      " Layer (type)                Output Shape              Param #   \n",
      "=================================================================\n",
      " lstm (LSTM)                 (None, 14, 64)            18176     \n",
      "                                                                 \n",
      " lstm_1 (LSTM)               (None, 32)                12416     \n",
      "                                                                 \n",
      " dropout (Dropout)           (None, 32)                0         \n",
      "                                                                 \n",
      " dense (Dense)               (None, 1)                 33        \n",
      "                                                                 \n",
      "=================================================================\n",
      "Total params: 30,625\n",
      "Trainable params: 30,625\n",
      "Non-trainable params: 0\n",
      "_________________________________________________________________\n"
     ]
    }
   ],
   "source": [
    "# In my case, trainX has a shape (12809, 14, 5).\n",
    "# 12809 because we are looking back 14 days (12823 - 14 = 12809).\n",
    "# Remember that we cannot look back 14 days until we get to the 15th day.\n",
    "# Also, trainY has a shape (12809, 1). Our model only predicts a single value, but\n",
    "# it needs multiple variables (5 in my example) to make this prediction.\n",
    "# This is why we can only predict a single day after our training, the day after where our data ends.\n",
    "# To predict more days in future, we need all the 5 variables which we do not have.\n",
    "# We need to predict all variables if we want to do that.\n",
    "\n",
    "# define the Autoencoder model\n",
    "\n",
    "model = Sequential()\n",
    "model.add(LSTM(64, activation='relu', input_shape=(\n",
    "    trainX.shape[1], trainX.shape[2]), return_sequences=True))\n",
    "model.add(LSTM(32, activation='relu', return_sequences=False))\n",
    "model.add(Dropout(0.2))\n",
    "model.add(Dense(trainY.shape[1]))\n",
    "\n",
    "model.compile(optimizer='adam', loss='mse')\n",
    "model.summary()"
   ]
  },
  {
   "cell_type": "code",
   "execution_count": 50,
   "metadata": {},
   "outputs": [
    {
     "name": "stdout",
     "output_type": "stream",
     "text": [
      "Epoch 1/5\n",
      "322/322 [==============================] - 17s 23ms/step - loss: 0.0845 - val_loss: 0.0095\n",
      "Epoch 2/5\n",
      "322/322 [==============================] - 8s 24ms/step - loss: 0.0286 - val_loss: 0.0077\n",
      "Epoch 3/5\n",
      "322/322 [==============================] - 15s 46ms/step - loss: 0.0259 - val_loss: 0.0034\n",
      "Epoch 4/5\n",
      "322/322 [==============================] - 20s 62ms/step - loss: 0.0239 - val_loss: 0.0031\n",
      "Epoch 5/5\n",
      "322/322 [==============================] - 19s 58ms/step - loss: 0.0254 - val_loss: 0.0025\n"
     ]
    }
   ],
   "source": [
    "# fit the model\n",
    "history = model.fit(trainX, trainY, epochs=5, batch_size=16,\n",
    "                    validation_split=0.1, verbose=1)"
   ]
  },
  {
   "cell_type": "code",
   "execution_count": 51,
   "metadata": {},
   "outputs": [
    {
     "data": {
      "text/plain": [
       "<matplotlib.legend.Legend at 0x7ff6d17d3d30>"
      ]
     },
     "execution_count": 51,
     "metadata": {},
     "output_type": "execute_result"
    },
    {
     "data": {
      "image/png": "[encoded data removed]",
      "text/plain": [
       "<Figure size 640x480 with 1 Axes>"
      ]
     },
     "metadata": {},
     "output_type": "display_data"
    }
   ],
   "source": [
    "plt.plot(history.history['loss'], label='Training loss')\n",
    "plt.plot(history.history['val_loss'], label='Validation loss')\n",
    "plt.legend()"
   ]
  },
  {
   "cell_type": "code",
   "execution_count": 52,
   "metadata": {},
   "outputs": [
    {
     "name": "stdout",
     "output_type": "stream",
     "text": [
      "[Timestamp('2022-09-30 00:00:00', freq='C'), Timestamp('2022-10-03 00:00:00', freq='C'), Timestamp('2022-10-04 00:00:00', freq='C'), Timestamp('2022-10-05 00:00:00', freq='C'), Timestamp('2022-10-06 00:00:00', freq='C'), Timestamp('2022-10-07 00:00:00', freq='C'), Timestamp('2022-10-11 00:00:00', freq='C'), Timestamp('2022-10-12 00:00:00', freq='C'), Timestamp('2022-10-13 00:00:00', freq='C'), Timestamp('2022-10-14 00:00:00', freq='C'), Timestamp('2022-10-17 00:00:00', freq='C'), Timestamp('2022-10-18 00:00:00', freq='C'), Timestamp('2022-10-19 00:00:00', freq='C'), Timestamp('2022-10-20 00:00:00', freq='C'), Timestamp('2022-10-21 00:00:00', freq='C')]\n"
     ]
    }
   ],
   "source": [
    "# Predicting...\n",
    "# Libraries that will help us extract only business days in the US.\n",
    "# Otherwise our dates would be wrong when we look back (or forward).\n",
    "us_bd = CustomBusinessDay(calendar=USFederalHolidayCalendar())\n",
    "# Remember that we can only predict one day in future as our model needs 5 variables\n",
    "# as inputs for prediction. We only have all 5 variables until the last day in our dataset.\n",
    "n_past = 16\n",
    "n_days_for_prediction = 15  # let us predict past 15 days\n",
    "\n",
    "predict_period_dates = pd.date_range(\n",
    "    list(train_dates)[-n_past], periods=n_days_for_prediction, freq=us_bd).tolist()\n",
    "print(predict_period_dates)\n"
   ]
  },
  {
   "cell_type": "code",
   "execution_count": 54,
   "metadata": {},
   "outputs": [
    {
     "name": "stdout",
     "output_type": "stream",
     "text": [
      "1/1 [==============================] - 1s 510ms/step\n"
     ]
    }
   ],
   "source": [
    "# Make prediction\n",
    "# shape = (n, 1) where n is the n_days_for_prediction\n",
    "prediction = model.predict(trainX[-n_days_for_prediction:])"
   ]
  },
  {
   "cell_type": "code",
   "execution_count": 55,
   "metadata": {},
   "outputs": [],
   "source": [
    "# Perform inverse transformation to rescale back to original range\n",
    "# Since we used 5 variables for transform, the inverse expects same dimensions\n",
    "# Therefore, let us copy our values 5 times and discard them after inverse transform\n",
    "prediction_copies = np.repeat(prediction, df_for_training.shape[1], axis=-1)\n",
    "y_pred_future = scaler.inverse_transform(prediction_copies)[:, 0]"
   ]
  },
  {
   "cell_type": "code",
   "execution_count": 57,
   "metadata": {},
   "outputs": [
    {
     "name": "stderr",
     "output_type": "stream",
     "text": [
      "/tmp/ipykernel_28634/3972565512.py:12: SettingWithCopyWarning: \n",
      "A value is trying to be set on a copy of a slice from a DataFrame.\n",
      "Try using .loc[row_indexer,col_indexer] = value instead\n",
      "\n",
      "See the caveats in the documentation: https://pandas.pydata.org/pandas-docs/stable/user_guide/indexing.html#returning-a-view-versus-a-copy\n",
      "  original['Date'] = pd.to_datetime(original['Date'])\n"
     ]
    }
   ],
   "source": [
    "# Convert timestamp to date\n",
    "forecast_dates = []\n",
    "for time_i in predict_period_dates:\n",
    "    forecast_dates.append(time_i.date())\n",
    "\n",
    "df_forecast = pd.DataFrame(\n",
    "    {'Date': np.array(forecast_dates), 'Open': y_pred_future})\n",
    "df_forecast['Date'] = pd.to_datetime(df_forecast['Date'])\n",
    "\n",
    "\n",
    "original = data_ge[['Date', 'Open']]\n",
    "original['Date'] = pd.to_datetime(original['Date'])\n",
    "original = original.loc[original['Date'] >= '2020-5-1']"
   ]
  },
  {
   "cell_type": "code",
   "execution_count": 59,
   "metadata": {},
   "outputs": [
    {
     "data": {
      "text/plain": [
       "<AxesSubplot: xlabel='Date', ylabel='Open'>"
      ]
     },
     "execution_count": 59,
     "metadata": {},
     "output_type": "execute_result"
    },
    {
     "data": {
      "image/png": "[encoded data removed]",
      "text/plain": [
       "<Figure size 640x480 with 1 Axes>"
      ]
     },
     "metadata": {},
     "output_type": "display_data"
    }
   ],
   "source": [
    "sns.lineplot(x=original['Date'], y=original['Open'])\n",
    "sns.lineplot(x=df_forecast['Date'], y=df_forecast['Open'])"
   ]
  },
  {
   "cell_type": "code",
   "execution_count": 12,
   "metadata": {},
   "outputs": [
    {
     "name": "stdout",
     "output_type": "stream",
     "text": [
      "\n",
      " >>>>> Data shape: \n",
      " (5731, 7)\n",
      "\n",
      " >>>>> Data Info: \n",
      "\n",
      "<class 'pandas.core.frame.DataFrame'>\n",
      "RangeIndex: 5731 entries, 0 to 5730\n",
      "Data columns (total 7 columns):\n",
      " #   Column     Non-Null Count  Dtype  \n",
      "---  ------     --------------  -----  \n",
      " 0   Date       5731 non-null   object \n",
      " 1   Open       5730 non-null   float64\n",
      " 2   High       5730 non-null   float64\n",
      " 3   Low        5730 non-null   float64\n",
      " 4   Close      5730 non-null   float64\n",
      " 5   Adj Close  5730 non-null   float64\n",
      " 6   Volume     5730 non-null   float64\n",
      "dtypes: float64(6), object(1)\n",
      "memory usage: 313.5+ KB\n",
      "\n",
      " >>>>> Head Data: \n",
      "\n"
     ]
    },
    {
     "data": {
      "text/html": [
       "<div>\n",
       "<style scoped>\n",
       "    .dataframe tbody tr th:only-of-type {\n",
       "        vertical-align: middle;\n",
       "    }\n",
       "\n",
       "    .dataframe tbody tr th {\n",
       "        vertical-align: top;\n",
       "    }\n",
       "\n",
       "    .dataframe thead th {\n",
       "        text-align: right;\n",
       "    }\n",
       "</style>\n",
       "<table border=\"1\" class=\"dataframe\">\n",
       "  <thead>\n",
       "    <tr style=\"text-align: right;\">\n",
       "      <th></th>\n",
       "      <th>Date</th>\n",
       "      <th>Open</th>\n",
       "      <th>High</th>\n",
       "      <th>Low</th>\n",
       "      <th>Close</th>\n",
       "      <th>Adj Close</th>\n",
       "      <th>Volume</th>\n",
       "    </tr>\n",
       "  </thead>\n",
       "  <tbody>\n",
       "    <tr>\n",
       "      <th>0</th>\n",
       "      <td>2000-01-04</td>\n",
       "      <td>5.550</td>\n",
       "      <td>5.550</td>\n",
       "      <td>5.550</td>\n",
       "      <td>5.550</td>\n",
       "      <td>2.021227</td>\n",
       "      <td>2.886144e+10</td>\n",
       "    </tr>\n",
       "    <tr>\n",
       "      <th>1</th>\n",
       "      <td>2000-01-05</td>\n",
       "      <td>5.494</td>\n",
       "      <td>5.494</td>\n",
       "      <td>5.494</td>\n",
       "      <td>5.494</td>\n",
       "      <td>2.000833</td>\n",
       "      <td>4.303360e+10</td>\n",
       "    </tr>\n",
       "    <tr>\n",
       "      <th>2</th>\n",
       "      <td>2000-01-06</td>\n",
       "      <td>5.475</td>\n",
       "      <td>5.475</td>\n",
       "      <td>5.475</td>\n",
       "      <td>5.475</td>\n",
       "      <td>1.993914</td>\n",
       "      <td>3.405568e+10</td>\n",
       "    </tr>\n",
       "    <tr>\n",
       "      <th>3</th>\n",
       "      <td>2000-01-07</td>\n",
       "      <td>5.500</td>\n",
       "      <td>5.500</td>\n",
       "      <td>5.500</td>\n",
       "      <td>5.500</td>\n",
       "      <td>2.003018</td>\n",
       "      <td>2.091264e+10</td>\n",
       "    </tr>\n",
       "    <tr>\n",
       "      <th>4</th>\n",
       "      <td>2000-01-10</td>\n",
       "      <td>5.613</td>\n",
       "      <td>5.613</td>\n",
       "      <td>5.613</td>\n",
       "      <td>5.613</td>\n",
       "      <td>2.044171</td>\n",
       "      <td>1.956352e+10</td>\n",
       "    </tr>\n",
       "  </tbody>\n",
       "</table>\n",
       "</div>"
      ],
      "text/plain": [
       "         Date   Open   High    Low  Close  Adj Close        Volume\n",
       "0  2000-01-04  5.550  5.550  5.550  5.550   2.021227  2.886144e+10\n",
       "1  2000-01-05  5.494  5.494  5.494  5.494   2.000833  4.303360e+10\n",
       "2  2000-01-06  5.475  5.475  5.475  5.475   1.993914  3.405568e+10\n",
       "3  2000-01-07  5.500  5.500  5.500  5.500   2.003018  2.091264e+10\n",
       "4  2000-01-10  5.613  5.613  5.613  5.613   2.044171  1.956352e+10"
      ]
     },
     "execution_count": 12,
     "metadata": {},
     "output_type": "execute_result"
    }
   ],
   "source": [
    "# Get Petrobras stcok data\n",
    "data_br = pd.read_csv(\"../datasets/PETR4_SA.csv\")\n",
    "print(\"\\n\", 5*\">\", \"Data shape: \\n\", data_br.shape)\n",
    "print(\"\\n\", 5*\">\", \"Data Info: \\n\")\n",
    "data_br.info()\n",
    "print(\"\\n\", 5*\">\", \"Head Data: \\n\")\n",
    "data_br.head()"
   ]
  },
  {
   "cell_type": "code",
   "execution_count": null,
   "metadata": {},
   "outputs": [],
   "source": []
  }
 ],
 "metadata": {
  "kernelspec": {
   "display_name": "Python 3.8.10 ('timeseries': venv)",
   "language": "python",
   "name": "python3"
  },
  "language_info": {
   "codemirror_mode": {
    "name": "ipython",
    "version": 3
   },
   "file_extension": ".py",
   "mimetype": "text/x-python",
   "name": "python",
   "nbconvert_exporter": "python",
   "pygments_lexer": "ipython3",
   "version": "3.8.10"
  },
  "orig_nbformat": 4,
  "vscode": {
   "interpreter": {
    "hash": "18e7fe120813f1b1d4f92b6f60e00f0af9581f8d756a443cccf94306e4c8b7d0"
   }
  }
 },
 "nbformat": 4,
 "nbformat_minor": 2
}
