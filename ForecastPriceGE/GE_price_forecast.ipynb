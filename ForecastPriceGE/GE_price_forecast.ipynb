{
 "cells": [
  {
   "cell_type": "markdown",
   "metadata": {},
   "source": [
    "# Forecast Open Price from General Electric Company (GE)\n",
    "\n",
    "Author: PhD. [Wesley Lima](https://github.com/WesleyJw)\n",
    "\n",
    "Code tested on:\n",
    "\n",
    "- Tensorflow: 2.2.0\n",
    "- Keras: 2.4.3\n",
    "\n",
    "This is a basic project to forecast the stock price (Day's open) for General Eletric Company (GE). To forecast day's open price we considering the closing price, intraday high, intraday low and volume as input variables.  This data is a time serie available from [Finance yahoo](https://finance.yahoo.com/quote/GE/history/).\n",
    "\n",
    "## 1. Data Science Questions\n",
    "\n",
    "### 1.1 What is the problem? \n",
    "\n",
    "I want to invest some money in the shares of the general electric company and I want to be more precise at the right time to invest.\n",
    "\n",
    "### 1.2 What's the ideal solution?\n",
    "\n",
    "Know the next day stock open price, using fourteen days before and closing price, intraday high, intraday low and volume as input variables.  \n",
    "\n",
    "### 1.3 How can I do this with Data Science and/or Machine Learning? \n",
    "\n",
    "Create a model to forecast the next day stock open price.\n",
    "\n",
    "### 1.4 How will this solution be used in production? \n",
    "\n",
    "This solution will be used from a web app that the user can input day and the another variables and give a graph with time series trend and open price value estimated. \n",
    "\n",
    "### 1.5 How will I know it worked?\n",
    "\n",
    "The precision of the model will be calculated by root mean square error and residual analysis. \n",
    "\n",
    "## 2. Business questions\n",
    "\n",
    "- 1. Is there a significant trend in the increase in days's open stock price?\n",
    "\n",
    "- 2. Is there a significant seasonal effect on days's open stock price?\n",
    "\n",
    "- 3. Is it possible to build a model to predict next days's open stock price?"
   ]
  },
  {
   "cell_type": "markdown",
   "metadata": {},
   "source": []
  }
 ],
 "metadata": {
  "kernelspec": {
   "display_name": "Python 3.8.10 ('timeseries': venv)",
   "language": "python",
   "name": "python3"
  },
  "language_info": {
   "name": "python",
   "version": "3.8.10"
  },
  "orig_nbformat": 4,
  "vscode": {
   "interpreter": {
    "hash": "18e7fe120813f1b1d4f92b6f60e00f0af9581f8d756a443cccf94306e4c8b7d0"
   }
  }
 },
 "nbformat": 4,
 "nbformat_minor": 2
}
