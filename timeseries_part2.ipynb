{
 "cells": [
  {
   "cell_type": "markdown",
   "metadata": {},
   "source": [
    "# Projeto Previsão de Ações\n",
    "\n",
    "## Análise de Séries Temporais - Parte II\n",
    "\n",
    "Todos os detalhes sobre o conjunto de dados utilizado está descrito no notebook **Análise de Séries Temporais - Parte I**."
   ]
  },
  {
   "cell_type": "code",
   "execution_count": 1,
   "metadata": {
    "collapsed": true
   },
   "outputs": [],
   "source": [
    "#libs\n",
    "import pandas as pd\n",
    "import numpy as np\n",
    "import warnings\n",
    "warnings.filterwarnings(\"ignore\")\n",
    "\n",
    "import matplotlib.pyplot as plt\n",
    "plt.style.use('seaborn-talk')\n",
    "%matplotlib inline\n",
    "\n",
    "import statsmodels.tsa as tsa\n",
    "import statsmodels.tsa.statespace.sarimax as sm\n",
    "from scipy.stats import chi2\n",
    "\n",
    "from itertools import product "
   ]
  },
  {
   "cell_type": "markdown",
   "metadata": {},
   "source": [
    "## Modelos de Séries Temporais\n",
    "\n",
    "### Modelos autorregressiovos AR(p)\n",
    "\n",
    "Em um modelo autorregressivo o valor de $Z_t$ no período $t$ depende do seu valor em $p$ períodos anteriores e de um termo aleatório, os valores de $Z_t$ são definidos como desvios em relação a um valor médio. Por definição, temos que um modelo autorregressivo de ordem $p$, AR($p$) é expresso por:\n",
    "\n",
    "<div style=\"text-align:center\">\n",
    "$\\tilde{Z}_t = \\alpha_1\\tilde{Z}_{t-1} + \\alpha_2\\tilde{Z}_{t-2} + \\cdots + \\alpha_p\\tilde{Z}_{t-p} + \\epsilon_t$\n",
    "</div>\n",
    "\n",
    "Em que: $\\tilde{Z}_t = Z_t - \\mu$, $\\alpha_1, \\alpha_2, \\cdots, \\alpha_p$ são parâmetros reais e $\\epsilon_t$ é um erro aleatório i.i.d com $E[\\epsilon_t] = 0$ e $Var[\\epsilon_t] = \\sigma^2$.\n",
    "\n",
    "\n",
    "Um caso importante que merece destaque é que nesse tipo de modelo os dados falam por si, os seja, apenas os valores de $Z_t$ são necessário para modelar o fenômeno, não existe outros regressores.\n",
    "\n",
    "### Modelos de médias móveis MA(q)\n",
    "\n",
    "Um processo de média móvel de ordem $q$, chamado de MA($q$) é definido por:\n",
    "\n",
    "<div style=\"text-align:center\">\n",
    "$Z_t = \\mu + \\epsilon_t - \\beta_1\\epsilon_{t-1} - \\cdots - \\beta_q\\epsilon_{t-q}$\n",
    "</div>\n",
    "\n",
    "em que $\\mu$ é uma constante e $\\epsilon$, como antes, é um termo de erro estocástico de ruído branco. Aqui $Z$ no\n",
    "período $t$ é igual a uma constante mais uma média móvel dos termos de erro atuais e passados.\n",
    "\n",
    "### Modelos autorregressivos e de médias móveis ARMA(p,q)\n",
    "\n",
    "Para uma grande parte de fenômenos se quisermos um modelo parcimonioso, a inclusão de termos autorregressivos e de médias móveis é a melhor solução. Neste caso, $Z$ possui características tanto de AR quanto de MA. Uma série temporal $Z_t$ segue um processo ARMA($p,q$) se pode ser escrito na forma:\n",
    "\n",
    "<div style=\"text-align:center\">\n",
    "$\\tilde{Z}_t = \\alpha_1\\tilde{Z}_{t-1} + \\cdots + \\alpha_p\\tilde{Z}_{t-p} + \\epsilon_t - \\beta_1\\epsilon_{t-1} - \\cdots - \\beta_q\\epsilon_{t-q}$\n",
    "</div>\n",
    "\n",
    "### Modelos autorregressivos integrado de médias móveis ARIMA(p,d,q)\n",
    "\n",
    "Estes modelos discutidos anteriormente levam em consideração o pressuposto de que a série temporal envolvida é estacionária ou, ao menos, fracamente estacionária, porém muitas séries temporais não são estacionárias, ou seja, são *integradas*, como foi levantado na **Part I**. Uma série é integrada de ordem 1 se suas primeiras diferenças forem estacionárias e ele é *integrada* de ordem $d$ se suas $d$ diferenças forem estacionárias. \n",
    "\n",
    "Se temos que diferenciar uma série temporal $d$ vezes para que ela seja estacionária e aplicar-lhe o modelo ARMA ($p, q$), então esta série temporal original será um processo ARIMA ($p, d, q$), ou seja, ela é uma série temporal autorregressiva integrada de médias móveis, em que $p$ retrata os números dos termos autorregressivos, $d$ o número de vezes que a série deve ser diferenciada antes de se tornar estacionária e $q$ o número de termos de média móvel. A forma mais usual do modelo ARIMA é dada por:\n",
    "\n",
    "<div style=\"text-align:center\">\n",
    "$Z_t = \\phi_1Z_{t-1} + \\cdots + \\phi_{p+d}Z_{t-p-d} + \\epsilon_t - \\theta_1\\epsilon_{t-1} - \\cdots - \\theta_q\\epsilon_{t-q}$\n",
    "</div>\n",
    "\n",
    "### Modelos sazonais - Modelos sazonais autorregressivos integrado de médias móveis SARIMA(p,d,q)(P,D,Q)S\n",
    "\n",
    "Um dos modelos mais utilizados que consideram a sazonalidade de uma determinada série temporal, é o chamado modelo ARIMA sazonal, ou SARIMA. Quando a sazonalidade não é determinística os modelos SARIMA captam esse efeito quando ele é multiplicativo, quando ele é aditivo se utiliza filtros pré-ARIMA. Quando temos um período sazonal *S*, o modelo denominado SARIMA de ordem ($p,d,q$)×($P,D,Q$)$S$, é dado por:\n",
    "\n",
    "<div style=\"text-align:center\">\n",
    "$ \\phi(B)\\Phi(B^S)\\Delta^d\\Delta^{D}_SZ_t = \\theta(B)\\Theta(B^S)\\epsilon_t$\n",
    "</div>\n",
    "\n",
    "Em que, $\\phi(B)$, é o operador não sazonal auto-regressivo,  $\\phi$ são parâmetros auto-regressivo\n",
    "não-sazonais, $\\Delta^d  =(1-B)d$, é o operador  diferença  não  sazonal  de  ordem  d,  $\\Phi(B^S)$ é o operador sazonal auto-regressivo, $\\Phi$,são parâmetros auto-regressivo sazonais, $\\Delta^{D}_S =(1-B^S)D$, é operador  diferença  sazonal  de  ordem  D, $\\theta(B)$ é o operador  não  sazonal de  médias  móveis, $\\theta$ são parâmetros  de  médias  móveis  não  sazonais, $\\Theta(B^S)$ é o operador sazonal de médias móveis, $\\Theta$ são parâmetros de médias móveis sazonais.\n",
    "\n",
    "\n",
    "\n",
    "### A metodologia Box-Jenkins\n",
    "\n",
    "Essa metodologia nos ajusda a responder a seguinte questão: tendo uma série temporal qual o modelo mais indicado para modelar o fenômeno estudado? Essa metodologia é dividida em quatro etapas:\n",
    "\n",
    "#### *Identificação* \n",
    "\n",
    "Nesta etapa temos que descobrir quais os valores adequados de $p, d$ e $q$, podemos fazer isso com  a função de autocorrelação e autocorrelação parcial.\n",
    "\n",
    "Analisando a série temporal do número de processos da \"XXXX\" no período de janeiro de 2010 há dezembro de 2017 exibimos o correlograma com os dados da ACF e PACF.  A ACF decresce muito lentamente, até cerca de 27 defasagens (lags), as ACF são individuais, significativamente diferentes de zero, por estarem todas fora dos intervalos de 95% de confiança. Em segundo lugar, depois da sétima defasagem, a função parcial de autocorrelação cai dramaticamente e a maioria das funções parciais, após a defasagem 7, são estatisticamente insignificantes, com exceção de algumas defasagem. \n",
    "\n",
    "Uma vez que a série temporal do número de processos da \"XXXXX\" não é estacionária, temos de torná-la estacionária antes de aplicar a metodologia Box-Jenkins. Aplicamos as primeiras diferenças e não observamos nenhuma tendência nessa nova série, talvez sugerindo que a série temporal em primeiras diferenças seja estacionária. Uma aplicação formal do teste de raiz unitária Dickey-Fuller mostra que isso é, de fato, o que acontece.\n",
    "\n",
    "Agora, temos um padrão bem diferente da função de autocorrelação e da função de autocorrelação parcial. As funções de autocorrelação nas defasagens iniciais parecem estatisticamente diferentes a partir de zero. Mas, em todas as outras defasagens, eles não são estatisticamente diferentes de zero. Para as correlações parciais, apenas as defasagens iniciais parecem ser estatisticamente diferentes de zero.\n",
    "\n",
    "Uma maneira de realizar isso é considerar a função de autocorrelação, a função de autocorrelação parcial e os correlogramas associados de um número selecionado de processos de ARMA como AR(1), AR(2), MA(1), MA(2), ARMA(1, 1), ARMA(2, 2) etc. Uma vez que cada um desses processos estocásticos exibe padrões típicos da função de autocorrelação e da função de autocorrelação parcial, se a série temporal em estudo ajusta-se a um desses padrões, podemos identificar a série temporal com aquele processo. Naturalmente, teremos de aplicar os testes de diagnósticos para descobrir se o modelo ARMA selecionado é razoavelmente preciso.\n",
    "\n",
    "|Tipo de modelo|Padrão típico de ACF|Padrão típico de PACF|\n",
    "|---|---|---|\n",
    "|AR(p)|Decai exponencialmente e/ou com padrão de onda senóide amortecida, infinita em extensão.|Picos significativos até *p* defasagens (lags). |\n",
    "|MA(q)| É finita, tem picos significativos até q defasangens (lags), apresenta um corte após o lag *q*.|Decai exponencialmente e/ou com padrão de onda senóide amortecida.|\n",
    "|ARMA(p,q)| Infinita em extensão, Decai exponencialmente e/ou com padrão de onda senóide amortecida após o lag $q - p$. |Decai exponencialmente e/ou com padrão de onda senóide amortecida.|\n",
    "\n",
    "Devido a dificuldade de escolher o melhor modelo, podemos testar vários modelos com diferentes parametrizações e escolher o que melhor descreve o fenômeno.\n",
    "\n",
    "#### *Estimação*\n",
    "\n",
    "\n",
    "A estimação dos modelos de séries temporais pode ser realizada pelo método dos momentos, pela máxima verossimilhança ou outros métodos mais específicos como a representação de Hamilton, não entraremos em detalhes estatísticos aqui.\n",
    "\n",
    "Vamos modelar essa série temporal de 3 formas diferentes, vamos ajustar primeiro um modelo SARIMA($p,d,q$)($P,D,Q$)$12$, considerando a janela sazonal de 12 meses.\n",
    "\n",
    "Então primeiro vamos criar um grid com todos os possíveis valores de $p, \\;d, \\;e\\; q$ e $P, \\;D, \\;e\\; Q$, já temos uma ideia pelo gráfico de PACF, que precisamos de um valor de $p=2$ e um valor de $d=1$. Porém, vamos testar um range maior de valores e pelo Critério de Informação de Akaike-AIC, escolher o modelo que apresenta o menor valor do teste.\n"
   ]
  },
  {
   "cell_type": "code",
   "execution_count": 85,
   "metadata": {},
   "outputs": [
    {
     "name": "stdout",
     "output_type": "stream",
     "text": [
      "Algumas combinações dos parâmetros p,d,que para o modelo SARIMA:\n",
      "SARIMA: (0, 0, 1) x (0, 0, 1, 12)\n",
      "SARIMA: (0, 0, 1) x (0, 0, 2, 12)\n",
      "SARIMA: (0, 0, 2) x (0, 0, 3, 12)\n",
      "SARIMA: (0, 0, 2) x (0, 1, 0, 12)\n"
     ]
    }
   ],
   "source": [
    "#Data set\n",
    "df = pd.read_csv('Serie_xxxxx.csv', header=0, index_col=0, parse_dates=True)\n",
    "y = df['count']\n",
    "y_train = y[:'2017']\n",
    "y_test = y['2017-12-01':]\n",
    "#df.set_index('data', inplace=True)\n",
    "\n",
    "#p,d e q assume qualquer valor entre 0 e 2\n",
    "p = d = q = range(4)\n",
    "\n",
    "#gerar todas as combinacoes de p,d e q\n",
    "pdq = list(product(p, d, q))\n",
    "\n",
    "#gerar todas as combinacoes de p, d e q  e que triplas no perido sazonal de 12 meses\n",
    "seasonal_pdq = [(x[0], x[1], x[2], 12) for x in list(product(p, d, q))]\n",
    "\n",
    "print('Algumas combinações dos parâmetros p,d,que para o modelo SARIMA:')\n",
    "print('SARIMA: {} x {}'.format(pdq[1], seasonal_pdq[1]))\n",
    "print('SARIMA: {} x {}'.format(pdq[1], seasonal_pdq[2]))\n",
    "print('SARIMA: {} x {}'.format(pdq[2], seasonal_pdq[3]))\n",
    "print('SARIMA: {} x {}'.format(pdq[2], seasonal_pdq[4]))"
   ]
  },
  {
   "cell_type": "markdown",
   "metadata": {},
   "source": [
    "Agora podemos usar  essa combinação de parâmetros para ajustar e avaliar nosso modelo."
   ]
  },
  {
   "cell_type": "code",
   "execution_count": 3,
   "metadata": {
    "collapsed": true
   },
   "outputs": [],
   "source": [
    "def grid_sarima(y, pdq, seasonal_pdq):\n",
    "    \n",
    "    aic_list = []\n",
    "    params_list = []\n",
    "    best_aic = np.inf\n",
    "    \n",
    "    for param in pdq:\n",
    "        for param_seasonal in seasonal_pdq:\n",
    "            try:\n",
    "                model = tsa.statespace.sarimax.SARIMAX(y,\n",
    "                                               order=param,\n",
    "                                               seasonal_order=param_seasonal,\n",
    "                                               enforce_stationarity=True,\n",
    "                                               enforce_invertibility=True)\n",
    "                results = model.fit()\n",
    "                aic_list.append(results.aic)\n",
    "                params_list.append('SARIMA{}x{}'.format(param, param_seasonal))\n",
    "                print('SARIMA{}x{}12 - AIC:{}'.format(param, param_seasonal, results.aic))\n",
    "                \n",
    "                if results.aic < best_aic:\n",
    "                    best_aic = results.aic\n",
    "                    best_pdq = param\n",
    "                    best_seasonal_pdq = param_seasonal\n",
    "\n",
    "            except:\n",
    "                continue\n",
    "    models_config = pd.DataFrame({'Params':params_list, 'AIC':aic_list})\n",
    "    \n",
    "    return(models_config, best_pdq, best_seasonal_pdq)\n",
    "    "
   ]
  },
  {
   "cell_type": "code",
   "execution_count": 16,
   "metadata": {},
   "outputs": [
    {
     "name": "stdout",
     "output_type": "stream",
     "text": [
      "SARIMA(0, 0, 0)x(0, 1, 1, 12)12 - AIC:1267.6684569397426\n",
      "SARIMA(0, 0, 0)x(1, 1, 0, 12)12 - AIC:1265.3272447278255\n",
      "SARIMA(0, 0, 0)x(1, 1, 1, 12)12 - AIC:1258.188995410488\n",
      "SARIMA(0, 0, 1)x(0, 1, 0, 12)12 - AIC:1203.6730108015029\n",
      "SARIMA(0, 0, 1)x(0, 1, 1, 12)12 - AIC:1201.7338744958365\n",
      "SARIMA(0, 0, 1)x(0, 2, 0, 12)12 - AIC:1086.7345312414277\n",
      "SARIMA(0, 0, 1)x(0, 3, 0, 12)12 - AIC:953.1566634408209\n",
      "SARIMA(0, 0, 1)x(1, 1, 0, 12)12 - AIC:1195.2028907409208\n",
      "SARIMA(0, 0, 1)x(1, 1, 1, 12)12 - AIC:1191.3199803824784\n",
      "SARIMA(0, 1, 0)x(0, 0, 1, 12)12 - AIC:1242.0351673556634\n",
      "SARIMA(0, 1, 0)x(0, 1, 1, 12)12 - AIC:1089.2688414366205\n",
      "SARIMA(0, 1, 0)x(1, 0, 0, 12)12 - AIC:1240.9055577461468\n",
      "SARIMA(0, 1, 0)x(1, 0, 1, 12)12 - AIC:1237.1480705076563\n",
      "SARIMA(0, 1, 0)x(1, 1, 0, 12)12 - AIC:1083.0713366381094\n",
      "SARIMA(0, 1, 0)x(2, 1, 0, 12)12 - AIC:1084.4456029196074\n",
      "SARIMA(0, 1, 0)x(2, 1, 1, 12)12 - AIC:1086.4365875027527\n",
      "SARIMA(0, 1, 0)x(2, 2, 0, 12)12 - AIC:967.3283463234717\n",
      "SARIMA(0, 1, 0)x(2, 2, 1, 12)12 - AIC:963.4033831615909\n",
      "SARIMA(0, 1, 0)x(2, 3, 1, 12)12 - AIC:849.2519988114171\n",
      "SARIMA(0, 1, 1)x(0, 0, 0, 12)12 - AIC:1243.1078199801896\n",
      "SARIMA(0, 1, 1)x(0, 0, 1, 12)12 - AIC:1244.021154744086\n",
      "SARIMA(0, 1, 1)x(0, 1, 0, 12)12 - AIC:1107.1697503051537\n",
      "SARIMA(0, 1, 1)x(0, 1, 1, 12)12 - AIC:1090.4389747273212\n",
      "SARIMA(0, 1, 1)x(0, 2, 0, 12)12 - AIC:1013.711185098222\n",
      "SARIMA(0, 1, 1)x(0, 3, 0, 12)12 - AIC:885.751846912602\n",
      "SARIMA(0, 1, 1)x(1, 0, 0, 12)12 - AIC:1242.8258736138582\n",
      "SARIMA(0, 1, 1)x(1, 0, 1, 12)12 - AIC:1238.9248240071142\n",
      "SARIMA(0, 1, 1)x(1, 1, 0, 12)12 - AIC:1083.7130320841375\n",
      "SARIMA(0, 1, 1)x(2, 1, 0, 12)12 - AIC:1085.324002388039\n",
      "SARIMA(0, 1, 1)x(2, 1, 1, 12)12 - AIC:1087.3017248941671\n",
      "SARIMA(0, 1, 1)x(2, 2, 0, 12)12 - AIC:966.7882841999751\n",
      "SARIMA(0, 1, 1)x(2, 2, 1, 12)12 - AIC:963.5520803472198\n"
     ]
    },
    {
     "name": "stderr",
     "output_type": "stream",
     "text": [
      "/home/wesley/anaconda3/lib/python3.6/site-packages/statsmodels/base/model.py:496: ConvergenceWarning: Maximum Likelihood optimization failed to converge. Check mle_retvals\n",
      "  \"Check mle_retvals\", ConvergenceWarning)\n"
     ]
    },
    {
     "name": "stdout",
     "output_type": "stream",
     "text": [
      "SARIMA(0, 1, 1)x(2, 3, 1, 12)12 - AIC:850.9633022221219\n",
      "SARIMA(0, 1, 2)x(0, 0, 0, 12)12 - AIC:1236.1395807219208\n",
      "SARIMA(0, 1, 2)x(0, 0, 1, 12)12 - AIC:1237.1602598680151\n",
      "SARIMA(0, 1, 2)x(0, 1, 0, 12)12 - AIC:1103.4501027268934\n",
      "SARIMA(0, 1, 2)x(0, 1, 1, 12)12 - AIC:1088.8468097729324\n",
      "SARIMA(0, 1, 2)x(0, 2, 0, 12)12 - AIC:1005.3312534105639\n",
      "SARIMA(0, 1, 2)x(0, 3, 0, 12)12 - AIC:877.4464663309503\n",
      "SARIMA(0, 1, 2)x(1, 0, 0, 12)12 - AIC:1236.4705644402136\n",
      "SARIMA(0, 1, 2)x(1, 0, 1, 12)12 - AIC:1234.9231888664078\n",
      "SARIMA(0, 1, 2)x(1, 1, 0, 12)12 - AIC:1085.0838951156454\n",
      "SARIMA(0, 1, 2)x(2, 1, 0, 12)12 - AIC:1086.514582406741\n",
      "SARIMA(0, 1, 2)x(2, 1, 1, 12)12 - AIC:1088.5140013426537\n",
      "SARIMA(0, 1, 2)x(2, 2, 0, 12)12 - AIC:968.7546857372159\n",
      "SARIMA(0, 1, 2)x(2, 2, 1, 12)12 - AIC:964.8853744819698\n",
      "SARIMA(0, 1, 2)x(2, 3, 1, 12)12 - AIC:853.3500332161271\n",
      "SARIMA(0, 1, 3)x(0, 0, 0, 12)12 - AIC:1235.5054815798205\n",
      "SARIMA(0, 1, 3)x(0, 0, 1, 12)12 - AIC:1236.3389484788618\n",
      "SARIMA(0, 1, 3)x(0, 1, 0, 12)12 - AIC:1096.1575184273768\n"
     ]
    },
    {
     "name": "stderr",
     "output_type": "stream",
     "text": [
      "/home/wesley/anaconda3/lib/python3.6/site-packages/statsmodels/base/model.py:496: ConvergenceWarning: Maximum Likelihood optimization failed to converge. Check mle_retvals\n",
      "  \"Check mle_retvals\", ConvergenceWarning)\n"
     ]
    },
    {
     "name": "stdout",
     "output_type": "stream",
     "text": [
      "SARIMA(0, 1, 3)x(0, 1, 1, 12)12 - AIC:1086.5203484468766\n",
      "SARIMA(0, 1, 3)x(0, 2, 0, 12)12 - AIC:995.1045318110677\n",
      "SARIMA(0, 1, 3)x(0, 3, 0, 12)12 - AIC:868.5059935501328\n",
      "SARIMA(0, 1, 3)x(1, 0, 0, 12)12 - AIC:1235.4149228608903\n",
      "SARIMA(0, 1, 3)x(1, 0, 1, 12)12 - AIC:1233.237901761819\n",
      "SARIMA(0, 1, 3)x(1, 1, 0, 12)12 - AIC:1085.3649609192505\n",
      "SARIMA(0, 1, 3)x(2, 1, 0, 12)12 - AIC:1085.9656348005149\n",
      "SARIMA(0, 1, 3)x(2, 1, 1, 12)12 - AIC:1087.9404282667506\n",
      "SARIMA(0, 1, 3)x(2, 2, 0, 12)12 - AIC:970.4337193704448\n"
     ]
    },
    {
     "name": "stderr",
     "output_type": "stream",
     "text": [
      "/home/wesley/anaconda3/lib/python3.6/site-packages/statsmodels/base/model.py:496: ConvergenceWarning: Maximum Likelihood optimization failed to converge. Check mle_retvals\n",
      "  \"Check mle_retvals\", ConvergenceWarning)\n"
     ]
    },
    {
     "name": "stdout",
     "output_type": "stream",
     "text": [
      "SARIMA(0, 1, 3)x(2, 2, 1, 12)12 - AIC:964.2588101360742\n"
     ]
    },
    {
     "name": "stderr",
     "output_type": "stream",
     "text": [
      "/home/wesley/anaconda3/lib/python3.6/site-packages/statsmodels/base/model.py:496: ConvergenceWarning: Maximum Likelihood optimization failed to converge. Check mle_retvals\n",
      "  \"Check mle_retvals\", ConvergenceWarning)\n"
     ]
    },
    {
     "name": "stdout",
     "output_type": "stream",
     "text": [
      "SARIMA(0, 1, 3)x(2, 3, 1, 12)12 - AIC:854.1102187576594\n",
      "SARIMA(0, 2, 0)x(0, 0, 1, 12)12 - AIC:1294.3022214324756\n",
      "SARIMA(0, 2, 0)x(0, 1, 1, 12)12 - AIC:1141.6482341915037\n",
      "SARIMA(0, 2, 0)x(1, 0, 0, 12)12 - AIC:1294.2718451991398\n",
      "SARIMA(0, 2, 0)x(1, 0, 1, 12)12 - AIC:1293.3067354582556\n",
      "SARIMA(0, 2, 0)x(1, 1, 0, 12)12 - AIC:1137.6651149355791\n",
      "SARIMA(0, 2, 0)x(1, 1, 1, 12)12 - AIC:1137.6964435921968\n",
      "SARIMA(0, 2, 0)x(2, 0, 0, 12)12 - AIC:1287.434261573091\n",
      "SARIMA(0, 2, 0)x(2, 0, 1, 12)12 - AIC:1289.395670995975\n",
      "SARIMA(0, 2, 0)x(2, 1, 0, 12)12 - AIC:1137.705283581303\n",
      "SARIMA(0, 2, 0)x(2, 1, 1, 12)12 - AIC:1139.6589805346696\n",
      "SARIMA(0, 2, 0)x(2, 2, 0, 12)12 - AIC:1013.6835919298878\n",
      "SARIMA(0, 2, 0)x(2, 2, 1, 12)12 - AIC:1009.1756183213707\n",
      "SARIMA(0, 2, 0)x(3, 0, 0, 12)12 - AIC:1289.3846897602434\n",
      "SARIMA(0, 2, 0)x(3, 0, 1, 12)12 - AIC:1291.380266098322\n",
      "SARIMA(0, 2, 1)x(0, 0, 0, 12)12 - AIC:1234.9001160428438\n",
      "SARIMA(0, 2, 1)x(0, 0, 1, 12)12 - AIC:1235.7397172458925\n",
      "SARIMA(0, 2, 1)x(1, 0, 0, 12)12 - AIC:1234.4779624916625\n",
      "SARIMA(0, 2, 1)x(1, 0, 1, 12)12 - AIC:1230.2990408634735\n",
      "SARIMA(0, 2, 1)x(2, 0, 0, 12)12 - AIC:1223.8592518673768\n",
      "SARIMA(0, 2, 1)x(2, 0, 1, 12)12 - AIC:1225.8330369483485\n",
      "SARIMA(0, 2, 1)x(3, 0, 0, 12)12 - AIC:1225.8278273122976\n",
      "SARIMA(0, 2, 1)x(3, 0, 1, 12)12 - AIC:1227.8227343071871\n",
      "SARIMA(0, 2, 2)x(0, 0, 0, 12)12 - AIC:nan\n",
      "SARIMA(0, 2, 2)x(0, 0, 1, 12)12 - AIC:nan\n",
      "SARIMA(0, 2, 2)x(0, 1, 0, 12)12 - AIC:nan\n",
      "SARIMA(0, 2, 2)x(0, 1, 1, 12)12 - AIC:nan\n",
      "SARIMA(0, 2, 2)x(0, 2, 0, 12)12 - AIC:nan\n",
      "SARIMA(0, 2, 2)x(0, 3, 0, 12)12 - AIC:nan\n",
      "SARIMA(0, 2, 2)x(1, 0, 0, 12)12 - AIC:nan\n",
      "SARIMA(0, 2, 2)x(1, 0, 1, 12)12 - AIC:nan\n",
      "SARIMA(0, 2, 2)x(1, 1, 0, 12)12 - AIC:nan\n",
      "SARIMA(0, 2, 2)x(1, 1, 1, 12)12 - AIC:nan\n",
      "SARIMA(0, 2, 2)x(2, 0, 0, 12)12 - AIC:nan\n",
      "SARIMA(0, 2, 2)x(2, 0, 1, 12)12 - AIC:nan\n",
      "SARIMA(0, 2, 2)x(2, 1, 0, 12)12 - AIC:nan\n",
      "SARIMA(0, 2, 2)x(2, 1, 1, 12)12 - AIC:nan\n",
      "SARIMA(0, 2, 2)x(2, 2, 0, 12)12 - AIC:nan\n",
      "SARIMA(0, 2, 2)x(2, 2, 1, 12)12 - AIC:nan\n",
      "SARIMA(0, 2, 2)x(3, 0, 0, 12)12 - AIC:nan\n",
      "SARIMA(0, 2, 2)x(3, 0, 1, 12)12 - AIC:nan\n",
      "SARIMA(0, 2, 3)x(0, 0, 0, 12)12 - AIC:nan\n",
      "SARIMA(0, 2, 3)x(0, 0, 1, 12)12 - AIC:nan\n",
      "SARIMA(0, 2, 3)x(0, 1, 0, 12)12 - AIC:nan\n",
      "SARIMA(0, 2, 3)x(0, 1, 1, 12)12 - AIC:nan\n",
      "SARIMA(0, 2, 3)x(0, 2, 0, 12)12 - AIC:nan\n",
      "SARIMA(0, 2, 3)x(0, 3, 0, 12)12 - AIC:nan\n",
      "SARIMA(0, 2, 3)x(1, 0, 0, 12)12 - AIC:nan\n",
      "SARIMA(0, 2, 3)x(1, 0, 1, 12)12 - AIC:nan\n",
      "SARIMA(0, 2, 3)x(1, 1, 0, 12)12 - AIC:nan\n",
      "SARIMA(0, 2, 3)x(1, 1, 1, 12)12 - AIC:nan\n",
      "SARIMA(0, 2, 3)x(2, 0, 0, 12)12 - AIC:nan\n",
      "SARIMA(0, 2, 3)x(2, 0, 1, 12)12 - AIC:nan\n",
      "SARIMA(0, 2, 3)x(2, 1, 0, 12)12 - AIC:nan\n",
      "SARIMA(0, 2, 3)x(2, 1, 1, 12)12 - AIC:nan\n",
      "SARIMA(0, 2, 3)x(2, 2, 0, 12)12 - AIC:nan\n",
      "SARIMA(0, 2, 3)x(2, 2, 1, 12)12 - AIC:nan\n",
      "SARIMA(0, 2, 3)x(3, 0, 0, 12)12 - AIC:nan\n",
      "SARIMA(0, 2, 3)x(3, 0, 1, 12)12 - AIC:nan\n",
      "SARIMA(0, 3, 0)x(0, 0, 1, 12)12 - AIC:1391.8002451300586\n",
      "SARIMA(0, 3, 0)x(1, 0, 0, 12)12 - AIC:1391.7932323719583\n",
      "SARIMA(0, 3, 0)x(1, 0, 1, 12)12 - AIC:1390.3256140468352\n",
      "SARIMA(0, 3, 0)x(1, 1, 0, 12)12 - AIC:1216.7683028591998\n",
      "SARIMA(0, 3, 0)x(1, 1, 1, 12)12 - AIC:1216.9178483892617\n",
      "SARIMA(0, 3, 0)x(2, 0, 0, 12)12 - AIC:1382.327799018415\n",
      "SARIMA(0, 3, 0)x(2, 0, 1, 12)12 - AIC:1384.260719854123\n",
      "SARIMA(0, 3, 0)x(2, 1, 0, 12)12 - AIC:1216.8590102747987\n",
      "SARIMA(0, 3, 0)x(2, 1, 1, 12)12 - AIC:1218.8513319732954\n",
      "SARIMA(0, 3, 0)x(2, 2, 0, 12)12 - AIC:1074.7158444816469\n",
      "SARIMA(0, 3, 0)x(2, 2, 1, 12)12 - AIC:1070.3171489815472\n",
      "SARIMA(0, 3, 0)x(3, 0, 1, 12)12 - AIC:1386.3269425827714\n",
      "SARIMA(0, 3, 3)x(0, 0, 0, 12)12 - AIC:nan\n",
      "SARIMA(0, 3, 3)x(0, 0, 1, 12)12 - AIC:nan\n",
      "SARIMA(0, 3, 3)x(1, 0, 0, 12)12 - AIC:nan\n",
      "SARIMA(0, 3, 3)x(1, 0, 1, 12)12 - AIC:nan\n",
      "SARIMA(0, 3, 3)x(2, 0, 0, 12)12 - AIC:nan\n",
      "SARIMA(0, 3, 3)x(2, 0, 1, 12)12 - AIC:nan\n",
      "SARIMA(0, 3, 3)x(3, 0, 1, 12)12 - AIC:nan\n",
      "SARIMA(1, 0, 0)x(0, 0, 0, 12)12 - AIC:1258.7738215116228\n",
      "SARIMA(1, 0, 0)x(0, 1, 0, 12)12 - AIC:1119.2616758639665\n",
      "SARIMA(1, 0, 0)x(0, 1, 1, 12)12 - AIC:1103.15608253341\n",
      "SARIMA(1, 0, 0)x(0, 2, 0, 12)12 - AIC:1025.4753490769494\n",
      "SARIMA(1, 0, 0)x(0, 3, 0, 12)12 - AIC:898.3005101263396\n",
      "SARIMA(1, 0, 0)x(1, 1, 0, 12)12 - AIC:1096.291600048974\n",
      "SARIMA(1, 0, 0)x(1, 1, 1, 12)12 - AIC:1097.9723498773646\n",
      "SARIMA(1, 0, 1)x(0, 0, 0, 12)12 - AIC:1260.7619293058556\n",
      "SARIMA(1, 0, 1)x(0, 1, 0, 12)12 - AIC:1120.3462209977965\n",
      "SARIMA(1, 0, 1)x(0, 1, 1, 12)12 - AIC:1104.5994598961433\n",
      "SARIMA(1, 0, 1)x(0, 2, 0, 12)12 - AIC:1026.5249164457186\n",
      "SARIMA(1, 0, 1)x(0, 3, 0, 12)12 - AIC:900.0580570453626\n",
      "SARIMA(1, 0, 1)x(1, 1, 0, 12)12 - AIC:1097.4843464921637\n",
      "SARIMA(1, 0, 1)x(1, 1, 1, 12)12 - AIC:1099.2566260543383\n",
      "SARIMA(1, 0, 2)x(0, 0, 0, 12)12 - AIC:1253.179226774001\n",
      "SARIMA(1, 0, 2)x(0, 1, 0, 12)12 - AIC:1115.3950984651724\n",
      "SARIMA(1, 0, 2)x(0, 1, 1, 12)12 - AIC:1102.2686808771468\n",
      "SARIMA(1, 0, 2)x(0, 2, 0, 12)12 - AIC:1016.9900424856143\n",
      "SARIMA(1, 0, 2)x(0, 3, 0, 12)12 - AIC:894.0981689220862\n",
      "SARIMA(1, 0, 2)x(1, 1, 0, 12)12 - AIC:1098.2887884705979\n",
      "SARIMA(1, 0, 2)x(1, 1, 1, 12)12 - AIC:1099.9114913828123\n",
      "SARIMA(1, 0, 3)x(0, 0, 0, 12)12 - AIC:1251.7903857243095\n",
      "SARIMA(1, 0, 3)x(0, 1, 0, 12)12 - AIC:1104.0365240509175\n",
      "SARIMA(1, 0, 3)x(0, 1, 1, 12)12 - AIC:1095.5323889995482\n",
      "SARIMA(1, 0, 3)x(0, 2, 0, 12)12 - AIC:1004.9383336345959\n",
      "SARIMA(1, 0, 3)x(0, 3, 0, 12)12 - AIC:881.0435757854757\n",
      "SARIMA(1, 0, 3)x(1, 1, 0, 12)12 - AIC:1094.3941306379108\n"
     ]
    },
    {
     "name": "stderr",
     "output_type": "stream",
     "text": [
      "/home/wesley/anaconda3/lib/python3.6/site-packages/statsmodels/base/model.py:496: ConvergenceWarning: Maximum Likelihood optimization failed to converge. Check mle_retvals\n",
      "  \"Check mle_retvals\", ConvergenceWarning)\n"
     ]
    },
    {
     "name": "stdout",
     "output_type": "stream",
     "text": [
      "SARIMA(1, 0, 3)x(1, 1, 1, 12)12 - AIC:1095.8940984247783\n",
      "SARIMA(1, 1, 0)x(0, 0, 0, 12)12 - AIC:1243.1077031095933\n",
      "SARIMA(1, 1, 0)x(0, 0, 1, 12)12 - AIC:1244.0140719481744\n",
      "SARIMA(1, 1, 0)x(0, 1, 0, 12)12 - AIC:1106.48660917309\n",
      "SARIMA(1, 1, 0)x(0, 1, 1, 12)12 - AIC:1090.182564791062\n",
      "SARIMA(1, 1, 0)x(0, 2, 0, 12)12 - AIC:1012.5453462519704\n",
      "SARIMA(1, 1, 0)x(0, 3, 0, 12)12 - AIC:885.2024375183081\n",
      "SARIMA(1, 1, 0)x(1, 0, 0, 12)12 - AIC:1242.7854050674514\n",
      "SARIMA(1, 1, 0)x(1, 0, 1, 12)12 - AIC:1238.836200966515\n",
      "SARIMA(1, 1, 0)x(1, 1, 0, 12)12 - AIC:1083.5842709842082\n",
      "SARIMA(1, 1, 0)x(2, 1, 0, 12)12 - AIC:1085.1996119740782\n",
      "SARIMA(1, 1, 0)x(2, 1, 1, 12)12 - AIC:1087.180960243066\n",
      "SARIMA(1, 1, 0)x(2, 2, 0, 12)12 - AIC:966.8250575600224\n",
      "SARIMA(1, 1, 0)x(2, 2, 1, 12)12 - AIC:963.0667168862275\n",
      "SARIMA(1, 1, 0)x(2, 3, 1, 12)12 - AIC:849.2478475004391\n",
      "SARIMA(1, 1, 1)x(0, 0, 0, 12)12 - AIC:1244.2818414551316\n",
      "SARIMA(1, 1, 1)x(0, 0, 1, 12)12 - AIC:1245.398200361459\n",
      "SARIMA(1, 1, 1)x(0, 1, 0, 12)12 - AIC:1107.4940359391987\n",
      "SARIMA(1, 1, 1)x(0, 1, 1, 12)12 - AIC:1091.7960619808819\n",
      "SARIMA(1, 1, 1)x(0, 2, 0, 12)12 - AIC:1012.0739341256773\n",
      "SARIMA(1, 1, 1)x(0, 3, 0, 12)12 - AIC:888.1356800534334\n",
      "SARIMA(1, 1, 1)x(1, 0, 0, 12)12 - AIC:1244.4869398138655\n",
      "SARIMA(1, 1, 1)x(1, 0, 1, 12)12 - AIC:1239.3778516803136\n",
      "SARIMA(1, 1, 1)x(1, 1, 0, 12)12 - AIC:1085.56105288215\n",
      "SARIMA(1, 1, 1)x(2, 1, 0, 12)12 - AIC:1088.2598164789224\n",
      "SARIMA(1, 1, 1)x(2, 1, 1, 12)12 - AIC:1089.1507058815487\n"
     ]
    },
    {
     "name": "stderr",
     "output_type": "stream",
     "text": [
      "/home/wesley/anaconda3/lib/python3.6/site-packages/statsmodels/base/model.py:496: ConvergenceWarning: Maximum Likelihood optimization failed to converge. Check mle_retvals\n",
      "  \"Check mle_retvals\", ConvergenceWarning)\n"
     ]
    },
    {
     "name": "stdout",
     "output_type": "stream",
     "text": [
      "SARIMA(1, 1, 1)x(2, 2, 0, 12)12 - AIC:970.3832738310269\n",
      "SARIMA(1, 1, 1)x(2, 2, 1, 12)12 - AIC:966.8423261217499\n"
     ]
    },
    {
     "name": "stderr",
     "output_type": "stream",
     "text": [
      "/home/wesley/anaconda3/lib/python3.6/site-packages/statsmodels/base/model.py:496: ConvergenceWarning: Maximum Likelihood optimization failed to converge. Check mle_retvals\n",
      "  \"Check mle_retvals\", ConvergenceWarning)\n"
     ]
    },
    {
     "name": "stdout",
     "output_type": "stream",
     "text": [
      "SARIMA(1, 1, 1)x(2, 3, 1, 12)12 - AIC:856.1135942651621\n",
      "SARIMA(1, 1, 2)x(0, 0, 0, 12)12 - AIC:1236.0108407326015\n",
      "SARIMA(1, 1, 2)x(0, 0, 1, 12)12 - AIC:1236.8158789892389\n",
      "SARIMA(1, 1, 2)x(0, 1, 0, 12)12 - AIC:1102.8087449404295\n",
      "SARIMA(1, 1, 2)x(0, 1, 1, 12)12 - AIC:1089.1516322704156\n",
      "SARIMA(1, 1, 2)x(0, 2, 0, 12)12 - AIC:1004.3025137290717\n",
      "SARIMA(1, 1, 2)x(0, 3, 0, 12)12 - AIC:875.4955997786994\n",
      "SARIMA(1, 1, 2)x(1, 0, 0, 12)12 - AIC:1236.02255651359\n",
      "SARIMA(1, 1, 2)x(1, 0, 1, 12)12 - AIC:1234.662897582378\n",
      "SARIMA(1, 1, 2)x(1, 1, 0, 12)12 - AIC:1085.3224317744325\n"
     ]
    },
    {
     "name": "stderr",
     "output_type": "stream",
     "text": [
      "/home/wesley/anaconda3/lib/python3.6/site-packages/statsmodels/base/model.py:496: ConvergenceWarning: Maximum Likelihood optimization failed to converge. Check mle_retvals\n",
      "  \"Check mle_retvals\", ConvergenceWarning)\n"
     ]
    },
    {
     "name": "stdout",
     "output_type": "stream",
     "text": [
      "SARIMA(1, 1, 2)x(2, 1, 0, 12)12 - AIC:1087.148884629176\n"
     ]
    },
    {
     "name": "stderr",
     "output_type": "stream",
     "text": [
      "/home/wesley/anaconda3/lib/python3.6/site-packages/statsmodels/base/model.py:496: ConvergenceWarning: Maximum Likelihood optimization failed to converge. Check mle_retvals\n",
      "  \"Check mle_retvals\", ConvergenceWarning)\n"
     ]
    },
    {
     "name": "stdout",
     "output_type": "stream",
     "text": [
      "SARIMA(1, 1, 2)x(2, 1, 1, 12)12 - AIC:1090.7706735403822\n",
      "SARIMA(1, 1, 2)x(2, 2, 0, 12)12 - AIC:969.6034815253885\n"
     ]
    },
    {
     "name": "stderr",
     "output_type": "stream",
     "text": [
      "/home/wesley/anaconda3/lib/python3.6/site-packages/statsmodels/base/model.py:496: ConvergenceWarning: Maximum Likelihood optimization failed to converge. Check mle_retvals\n",
      "  \"Check mle_retvals\", ConvergenceWarning)\n"
     ]
    },
    {
     "name": "stdout",
     "output_type": "stream",
     "text": [
      "SARIMA(1, 1, 2)x(2, 2, 1, 12)12 - AIC:966.3773701357179\n"
     ]
    },
    {
     "name": "stderr",
     "output_type": "stream",
     "text": [
      "/home/wesley/anaconda3/lib/python3.6/site-packages/statsmodels/base/model.py:496: ConvergenceWarning: Maximum Likelihood optimization failed to converge. Check mle_retvals\n",
      "  \"Check mle_retvals\", ConvergenceWarning)\n"
     ]
    },
    {
     "name": "stdout",
     "output_type": "stream",
     "text": [
      "SARIMA(1, 1, 2)x(2, 3, 1, 12)12 - AIC:853.6041633631053\n"
     ]
    },
    {
     "name": "stderr",
     "output_type": "stream",
     "text": [
      "/home/wesley/anaconda3/lib/python3.6/site-packages/statsmodels/base/model.py:496: ConvergenceWarning: Maximum Likelihood optimization failed to converge. Check mle_retvals\n",
      "  \"Check mle_retvals\", ConvergenceWarning)\n"
     ]
    },
    {
     "name": "stdout",
     "output_type": "stream",
     "text": [
      "SARIMA(1, 1, 3)x(0, 1, 0, 12)12 - AIC:1098.1548602515281\n",
      "SARIMA(1, 1, 3)x(0, 1, 1, 12)12 - AIC:1088.897824580321\n",
      "SARIMA(1, 1, 3)x(0, 2, 0, 12)12 - AIC:nan\n",
      "SARIMA(1, 1, 3)x(0, 3, 0, 12)12 - AIC:nan\n",
      "SARIMA(1, 1, 3)x(1, 1, 0, 12)12 - AIC:1087.0811955846746\n",
      "SARIMA(1, 1, 3)x(2, 1, 0, 12)12 - AIC:1088.5733077069058\n"
     ]
    },
    {
     "name": "stderr",
     "output_type": "stream",
     "text": [
      "/home/wesley/anaconda3/lib/python3.6/site-packages/statsmodels/base/model.py:496: ConvergenceWarning: Maximum Likelihood optimization failed to converge. Check mle_retvals\n",
      "  \"Check mle_retvals\", ConvergenceWarning)\n"
     ]
    },
    {
     "name": "stdout",
     "output_type": "stream",
     "text": [
      "SARIMA(1, 1, 3)x(2, 1, 1, 12)12 - AIC:1092.0931785268613\n",
      "SARIMA(1, 1, 3)x(2, 2, 0, 12)12 - AIC:nan\n",
      "SARIMA(1, 1, 3)x(2, 2, 1, 12)12 - AIC:nan\n",
      "SARIMA(1, 1, 3)x(2, 3, 1, 12)12 - AIC:nan\n",
      "SARIMA(1, 2, 0)x(0, 0, 0, 12)12 - AIC:1246.1007696482745\n",
      "SARIMA(1, 2, 0)x(0, 0, 1, 12)12 - AIC:1247.6222517492097\n",
      "SARIMA(1, 2, 0)x(0, 1, 0, 12)12 - AIC:1117.1438505834042\n",
      "SARIMA(1, 2, 0)x(0, 1, 1, 12)12 - AIC:1103.1706654173624\n",
      "SARIMA(1, 2, 0)x(0, 2, 0, 12)12 - AIC:1010.9063489104994\n",
      "SARIMA(1, 2, 0)x(0, 3, 0, 12)12 - AIC:873.470272296317\n",
      "SARIMA(1, 2, 0)x(1, 0, 0, 12)12 - AIC:1247.4257246313437\n",
      "SARIMA(1, 2, 0)x(1, 0, 1, 12)12 - AIC:1248.1692224220071\n",
      "SARIMA(1, 2, 0)x(1, 1, 0, 12)12 - AIC:1104.3608151097153\n",
      "SARIMA(1, 2, 0)x(1, 1, 1, 12)12 - AIC:1103.9867188897285\n",
      "SARIMA(1, 2, 0)x(2, 0, 0, 12)12 - AIC:1247.2365590461395\n",
      "SARIMA(1, 2, 0)x(2, 0, 1, 12)12 - AIC:1249.2346995639105\n",
      "SARIMA(1, 2, 0)x(2, 1, 0, 12)12 - AIC:1104.3076639320923\n",
      "SARIMA(1, 2, 0)x(2, 1, 1, 12)12 - AIC:1105.9733604894432\n",
      "SARIMA(1, 2, 0)x(2, 2, 0, 12)12 - AIC:985.1595119238038\n",
      "SARIMA(1, 2, 0)x(2, 2, 1, 12)12 - AIC:979.8707734414866\n",
      "SARIMA(1, 2, 0)x(3, 0, 0, 12)12 - AIC:1249.2350075186741\n",
      "SARIMA(1, 2, 0)x(3, 0, 1, 12)12 - AIC:1251.2330339340876\n",
      "SARIMA(1, 2, 1)x(0, 0, 0, 12)12 - AIC:1239.1129739302141\n",
      "SARIMA(1, 2, 1)x(0, 0, 1, 12)12 - AIC:1239.6878428365528\n",
      "SARIMA(1, 2, 1)x(0, 1, 0, 12)12 - AIC:1101.6205991357779\n",
      "SARIMA(1, 2, 1)x(0, 1, 1, 12)12 - AIC:1085.5555588551947\n",
      "SARIMA(1, 2, 1)x(0, 2, 0, 12)12 - AIC:1000.5781699988266\n",
      "SARIMA(1, 2, 1)x(0, 3, 0, 12)12 - AIC:876.6974811451256\n",
      "SARIMA(1, 2, 1)x(1, 0, 0, 12)12 - AIC:1238.7087284034337\n",
      "SARIMA(1, 2, 1)x(1, 0, 1, 12)12 - AIC:1237.3340930149454\n",
      "SARIMA(1, 2, 1)x(1, 1, 0, 12)12 - AIC:1078.7634005092407\n",
      "SARIMA(1, 2, 1)x(1, 1, 1, 12)12 - AIC:1080.5405647399416\n",
      "SARIMA(1, 2, 1)x(2, 0, 0, 12)12 - AIC:1225.523330842369\n",
      "SARIMA(1, 2, 1)x(2, 0, 1, 12)12 - AIC:1227.505559216759\n",
      "SARIMA(1, 2, 1)x(2, 1, 0, 12)12 - AIC:1080.5025182631123\n",
      "SARIMA(1, 2, 1)x(2, 1, 1, 12)12 - AIC:1082.603577728811\n"
     ]
    },
    {
     "name": "stderr",
     "output_type": "stream",
     "text": [
      "/home/wesley/anaconda3/lib/python3.6/site-packages/statsmodels/base/model.py:496: ConvergenceWarning: Maximum Likelihood optimization failed to converge. Check mle_retvals\n",
      "  \"Check mle_retvals\", ConvergenceWarning)\n"
     ]
    },
    {
     "name": "stdout",
     "output_type": "stream",
     "text": [
      "SARIMA(1, 2, 1)x(2, 2, 0, 12)12 - AIC:961.2910739687931\n"
     ]
    },
    {
     "name": "stderr",
     "output_type": "stream",
     "text": [
      "/home/wesley/anaconda3/lib/python3.6/site-packages/statsmodels/base/model.py:496: ConvergenceWarning: Maximum Likelihood optimization failed to converge. Check mle_retvals\n",
      "  \"Check mle_retvals\", ConvergenceWarning)\n"
     ]
    },
    {
     "name": "stdout",
     "output_type": "stream",
     "text": [
      "SARIMA(1, 2, 1)x(2, 2, 1, 12)12 - AIC:958.0780418591407\n",
      "SARIMA(1, 2, 1)x(3, 0, 0, 12)12 - AIC:1227.5019462390244\n",
      "SARIMA(1, 2, 1)x(3, 0, 1, 12)12 - AIC:1229.4611999904564\n",
      "SARIMA(1, 2, 2)x(0, 0, 0, 12)12 - AIC:nan\n",
      "SARIMA(1, 2, 2)x(0, 0, 1, 12)12 - AIC:nan\n",
      "SARIMA(1, 2, 2)x(0, 1, 0, 12)12 - AIC:nan\n",
      "SARIMA(1, 2, 2)x(0, 1, 1, 12)12 - AIC:nan\n",
      "SARIMA(1, 2, 2)x(0, 2, 0, 12)12 - AIC:1002.3595278159053\n",
      "SARIMA(1, 2, 2)x(0, 3, 0, 12)12 - AIC:869.3089268784674\n",
      "SARIMA(1, 2, 2)x(1, 0, 0, 12)12 - AIC:nan\n",
      "SARIMA(1, 2, 2)x(1, 0, 1, 12)12 - AIC:nan\n",
      "SARIMA(1, 2, 2)x(1, 1, 0, 12)12 - AIC:nan\n",
      "SARIMA(1, 2, 2)x(1, 1, 1, 12)12 - AIC:nan\n",
      "SARIMA(1, 2, 2)x(2, 0, 0, 12)12 - AIC:nan\n",
      "SARIMA(1, 2, 2)x(2, 0, 1, 12)12 - AIC:nan\n",
      "SARIMA(1, 2, 2)x(2, 1, 0, 12)12 - AIC:nan\n",
      "SARIMA(1, 2, 2)x(2, 1, 1, 12)12 - AIC:nan\n"
     ]
    },
    {
     "name": "stderr",
     "output_type": "stream",
     "text": [
      "/home/wesley/anaconda3/lib/python3.6/site-packages/statsmodels/base/model.py:496: ConvergenceWarning: Maximum Likelihood optimization failed to converge. Check mle_retvals\n",
      "  \"Check mle_retvals\", ConvergenceWarning)\n"
     ]
    },
    {
     "name": "stdout",
     "output_type": "stream",
     "text": [
      "SARIMA(1, 2, 2)x(2, 2, 0, 12)12 - AIC:963.4182602890133\n"
     ]
    },
    {
     "name": "stderr",
     "output_type": "stream",
     "text": [
      "/home/wesley/anaconda3/lib/python3.6/site-packages/statsmodels/base/model.py:496: ConvergenceWarning: Maximum Likelihood optimization failed to converge. Check mle_retvals\n",
      "  \"Check mle_retvals\", ConvergenceWarning)\n"
     ]
    },
    {
     "name": "stdout",
     "output_type": "stream",
     "text": [
      "SARIMA(1, 2, 2)x(2, 2, 1, 12)12 - AIC:960.5332467245929\n",
      "SARIMA(1, 2, 2)x(3, 0, 0, 12)12 - AIC:nan\n",
      "SARIMA(1, 2, 2)x(3, 0, 1, 12)12 - AIC:nan\n",
      "SARIMA(1, 2, 3)x(0, 0, 0, 12)12 - AIC:1241.7419517129326\n",
      "SARIMA(1, 2, 3)x(0, 0, 1, 12)12 - AIC:1242.2262393379551\n",
      "SARIMA(1, 2, 3)x(0, 1, 0, 12)12 - AIC:1105.1740232431657\n"
     ]
    },
    {
     "name": "stderr",
     "output_type": "stream",
     "text": [
      "/home/wesley/anaconda3/lib/python3.6/site-packages/statsmodels/base/model.py:496: ConvergenceWarning: Maximum Likelihood optimization failed to converge. Check mle_retvals\n",
      "  \"Check mle_retvals\", ConvergenceWarning)\n"
     ]
    },
    {
     "name": "stdout",
     "output_type": "stream",
     "text": [
      "SARIMA(1, 2, 3)x(0, 1, 1, 12)12 - AIC:1087.6861414568061\n",
      "SARIMA(1, 2, 3)x(0, 2, 0, 12)12 - AIC:1004.052262479028\n",
      "SARIMA(1, 2, 3)x(0, 3, 0, 12)12 - AIC:870.9299474315992\n",
      "SARIMA(1, 2, 3)x(1, 0, 0, 12)12 - AIC:1241.3845507115407\n",
      "SARIMA(1, 2, 3)x(1, 0, 1, 12)12 - AIC:1232.6002691652045\n",
      "SARIMA(1, 2, 3)x(1, 1, 0, 12)12 - AIC:1083.0311299129337\n"
     ]
    },
    {
     "name": "stderr",
     "output_type": "stream",
     "text": [
      "/home/wesley/anaconda3/lib/python3.6/site-packages/statsmodels/base/model.py:496: ConvergenceWarning: Maximum Likelihood optimization failed to converge. Check mle_retvals\n",
      "  \"Check mle_retvals\", ConvergenceWarning)\n"
     ]
    },
    {
     "name": "stdout",
     "output_type": "stream",
     "text": [
      "SARIMA(1, 2, 3)x(1, 1, 1, 12)12 - AIC:1084.2685514341883\n"
     ]
    },
    {
     "name": "stderr",
     "output_type": "stream",
     "text": [
      "/home/wesley/anaconda3/lib/python3.6/site-packages/statsmodels/base/model.py:496: ConvergenceWarning: Maximum Likelihood optimization failed to converge. Check mle_retvals\n",
      "  \"Check mle_retvals\", ConvergenceWarning)\n"
     ]
    },
    {
     "name": "stdout",
     "output_type": "stream",
     "text": [
      "SARIMA(1, 2, 3)x(2, 0, 0, 12)12 - AIC:1232.8570142023796\n"
     ]
    },
    {
     "name": "stderr",
     "output_type": "stream",
     "text": [
      "/home/wesley/anaconda3/lib/python3.6/site-packages/statsmodels/base/model.py:496: ConvergenceWarning: Maximum Likelihood optimization failed to converge. Check mle_retvals\n",
      "  \"Check mle_retvals\", ConvergenceWarning)\n"
     ]
    },
    {
     "name": "stdout",
     "output_type": "stream",
     "text": [
      "SARIMA(1, 2, 3)x(2, 0, 1, 12)12 - AIC:1236.2256619424857\n"
     ]
    },
    {
     "name": "stderr",
     "output_type": "stream",
     "text": [
      "/home/wesley/anaconda3/lib/python3.6/site-packages/statsmodels/base/model.py:496: ConvergenceWarning: Maximum Likelihood optimization failed to converge. Check mle_retvals\n",
      "  \"Check mle_retvals\", ConvergenceWarning)\n"
     ]
    },
    {
     "name": "stdout",
     "output_type": "stream",
     "text": [
      "SARIMA(1, 2, 3)x(2, 1, 0, 12)12 - AIC:1084.212441326216\n"
     ]
    },
    {
     "name": "stderr",
     "output_type": "stream",
     "text": [
      "/home/wesley/anaconda3/lib/python3.6/site-packages/statsmodels/base/model.py:496: ConvergenceWarning: Maximum Likelihood optimization failed to converge. Check mle_retvals\n",
      "  \"Check mle_retvals\", ConvergenceWarning)\n"
     ]
    },
    {
     "name": "stdout",
     "output_type": "stream",
     "text": [
      "SARIMA(1, 2, 3)x(2, 1, 1, 12)12 - AIC:1087.640477296375\n"
     ]
    },
    {
     "name": "stderr",
     "output_type": "stream",
     "text": [
      "/home/wesley/anaconda3/lib/python3.6/site-packages/statsmodels/base/model.py:496: ConvergenceWarning: Maximum Likelihood optimization failed to converge. Check mle_retvals\n",
      "  \"Check mle_retvals\", ConvergenceWarning)\n"
     ]
    },
    {
     "name": "stdout",
     "output_type": "stream",
     "text": [
      "SARIMA(1, 2, 3)x(2, 2, 0, 12)12 - AIC:987.3485087637172\n"
     ]
    },
    {
     "name": "stderr",
     "output_type": "stream",
     "text": [
      "/home/wesley/anaconda3/lib/python3.6/site-packages/statsmodels/base/model.py:496: ConvergenceWarning: Maximum Likelihood optimization failed to converge. Check mle_retvals\n",
      "  \"Check mle_retvals\", ConvergenceWarning)\n"
     ]
    },
    {
     "name": "stdout",
     "output_type": "stream",
     "text": [
      "SARIMA(1, 2, 3)x(2, 2, 1, 12)12 - AIC:962.0698461275605\n"
     ]
    },
    {
     "name": "stderr",
     "output_type": "stream",
     "text": [
      "/home/wesley/anaconda3/lib/python3.6/site-packages/statsmodels/base/model.py:496: ConvergenceWarning: Maximum Likelihood optimization failed to converge. Check mle_retvals\n",
      "  \"Check mle_retvals\", ConvergenceWarning)\n"
     ]
    },
    {
     "name": "stdout",
     "output_type": "stream",
     "text": [
      "SARIMA(1, 2, 3)x(3, 0, 0, 12)12 - AIC:1236.5345639891414\n"
     ]
    },
    {
     "name": "stderr",
     "output_type": "stream",
     "text": [
      "/home/wesley/anaconda3/lib/python3.6/site-packages/statsmodels/base/model.py:496: ConvergenceWarning: Maximum Likelihood optimization failed to converge. Check mle_retvals\n",
      "  \"Check mle_retvals\", ConvergenceWarning)\n"
     ]
    },
    {
     "name": "stdout",
     "output_type": "stream",
     "text": [
      "SARIMA(1, 2, 3)x(3, 0, 1, 12)12 - AIC:1238.4650271814435\n",
      "SARIMA(1, 3, 0)x(0, 0, 0, 12)12 - AIC:1312.944372063553\n",
      "SARIMA(1, 3, 0)x(0, 0, 1, 12)12 - AIC:1314.9378446856713\n",
      "SARIMA(1, 3, 0)x(0, 1, 0, 12)12 - AIC:1178.7517578646473\n",
      "SARIMA(1, 3, 0)x(0, 2, 0, 12)12 - AIC:1060.677727329544\n",
      "SARIMA(1, 3, 0)x(0, 3, 0, 12)12 - AIC:909.0497502673314\n",
      "SARIMA(1, 3, 0)x(1, 0, 0, 12)12 - AIC:1314.9344229899361\n",
      "SARIMA(1, 3, 0)x(1, 0, 1, 12)12 - AIC:1316.6638301442274\n",
      "SARIMA(1, 3, 0)x(1, 1, 0, 12)12 - AIC:1164.6632926711081\n",
      "SARIMA(1, 3, 0)x(1, 1, 1, 12)12 - AIC:1164.4793503301037\n",
      "SARIMA(1, 3, 0)x(2, 0, 0, 12)12 - AIC:1315.5621695314687\n",
      "SARIMA(1, 3, 0)x(2, 0, 1, 12)12 - AIC:1317.4491003558057\n",
      "SARIMA(1, 3, 0)x(2, 1, 0, 12)12 - AIC:1164.9316622413758\n",
      "SARIMA(1, 3, 0)x(2, 1, 1, 12)12 - AIC:1166.4624440256414\n",
      "SARIMA(1, 3, 0)x(2, 2, 0, 12)12 - AIC:1032.6825639561555\n",
      "SARIMA(1, 3, 0)x(2, 2, 1, 12)12 - AIC:1027.7576922559101\n",
      "SARIMA(1, 3, 0)x(3, 0, 1, 12)12 - AIC:1319.3979495371887\n",
      "SARIMA(1, 3, 1)x(0, 3, 0, 12)12 - AIC:865.2985621691212\n",
      "SARIMA(1, 3, 2)x(0, 0, 0, 12)12 - AIC:nan\n",
      "SARIMA(1, 3, 2)x(0, 0, 1, 12)12 - AIC:nan\n",
      "SARIMA(1, 3, 2)x(0, 1, 0, 12)12 - AIC:nan\n",
      "SARIMA(1, 3, 2)x(0, 2, 0, 12)12 - AIC:nan\n",
      "SARIMA(1, 3, 2)x(0, 3, 0, 12)12 - AIC:nan\n",
      "SARIMA(1, 3, 2)x(1, 0, 0, 12)12 - AIC:nan\n",
      "SARIMA(1, 3, 2)x(1, 0, 1, 12)12 - AIC:nan\n",
      "SARIMA(1, 3, 2)x(1, 1, 0, 12)12 - AIC:nan\n",
      "SARIMA(1, 3, 2)x(1, 1, 1, 12)12 - AIC:nan\n",
      "SARIMA(1, 3, 2)x(2, 0, 0, 12)12 - AIC:nan\n",
      "SARIMA(1, 3, 2)x(2, 0, 1, 12)12 - AIC:nan\n",
      "SARIMA(1, 3, 2)x(2, 1, 0, 12)12 - AIC:nan\n",
      "SARIMA(1, 3, 2)x(2, 1, 1, 12)12 - AIC:nan\n",
      "SARIMA(1, 3, 2)x(2, 2, 0, 12)12 - AIC:nan\n",
      "SARIMA(1, 3, 2)x(2, 2, 1, 12)12 - AIC:nan\n",
      "SARIMA(1, 3, 2)x(3, 0, 1, 12)12 - AIC:nan\n",
      "SARIMA(1, 3, 3)x(0, 1, 0, 12)12 - AIC:nan\n",
      "SARIMA(1, 3, 3)x(0, 2, 0, 12)12 - AIC:nan\n",
      "SARIMA(1, 3, 3)x(0, 3, 0, 12)12 - AIC:nan\n",
      "SARIMA(1, 3, 3)x(1, 1, 0, 12)12 - AIC:nan\n",
      "SARIMA(1, 3, 3)x(1, 1, 1, 12)12 - AIC:nan\n",
      "SARIMA(1, 3, 3)x(2, 1, 0, 12)12 - AIC:nan\n",
      "SARIMA(1, 3, 3)x(2, 1, 1, 12)12 - AIC:nan\n",
      "SARIMA(1, 3, 3)x(2, 2, 0, 12)12 - AIC:nan\n",
      "SARIMA(1, 3, 3)x(2, 2, 1, 12)12 - AIC:nan\n",
      "SARIMA(2, 0, 0)x(0, 0, 0, 12)12 - AIC:1260.7554433565954\n",
      "SARIMA(2, 0, 0)x(0, 1, 0, 12)12 - AIC:1119.8426809766584\n",
      "SARIMA(2, 0, 0)x(0, 1, 1, 12)12 - AIC:1104.3894082250038\n",
      "SARIMA(2, 0, 0)x(0, 2, 0, 12)12 - AIC:1025.709980648598\n",
      "SARIMA(2, 0, 0)x(0, 3, 0, 12)12 - AIC:899.8127485082438\n",
      "SARIMA(2, 0, 0)x(1, 1, 0, 12)12 - AIC:1097.3516353917405\n",
      "SARIMA(2, 0, 0)x(1, 1, 1, 12)12 - AIC:1099.132519416947\n",
      "SARIMA(2, 0, 2)x(0, 0, 0, 12)12 - AIC:1251.4500608635467\n",
      "SARIMA(2, 0, 2)x(0, 1, 0, 12)12 - AIC:nan\n",
      "SARIMA(2, 0, 2)x(0, 1, 1, 12)12 - AIC:nan\n",
      "SARIMA(2, 0, 2)x(0, 2, 0, 12)12 - AIC:nan\n",
      "SARIMA(2, 0, 2)x(0, 3, 0, 12)12 - AIC:nan\n",
      "SARIMA(2, 0, 2)x(1, 1, 0, 12)12 - AIC:nan\n",
      "SARIMA(2, 0, 2)x(1, 1, 1, 12)12 - AIC:nan\n",
      "SARIMA(2, 0, 3)x(0, 1, 0, 12)12 - AIC:nan\n",
      "SARIMA(2, 0, 3)x(0, 1, 1, 12)12 - AIC:nan\n",
      "SARIMA(2, 0, 3)x(1, 1, 0, 12)12 - AIC:nan\n",
      "SARIMA(2, 0, 3)x(1, 1, 1, 12)12 - AIC:nan\n",
      "SARIMA(2, 1, 0)x(0, 0, 0, 12)12 - AIC:1238.9107534672585\n",
      "SARIMA(2, 1, 0)x(0, 0, 1, 12)12 - AIC:1239.9363113303366\n",
      "SARIMA(2, 1, 0)x(0, 1, 0, 12)12 - AIC:1105.5338232818983\n",
      "SARIMA(2, 1, 0)x(0, 1, 1, 12)12 - AIC:1090.5979752538458\n",
      "SARIMA(2, 1, 0)x(0, 2, 0, 12)12 - AIC:1007.730201655784\n",
      "SARIMA(2, 1, 0)x(0, 3, 0, 12)12 - AIC:878.1342459394715\n",
      "SARIMA(2, 1, 0)x(1, 0, 0, 12)12 - AIC:1239.1617198520448\n",
      "SARIMA(2, 1, 0)x(1, 0, 1, 12)12 - AIC:1237.3178301224357\n",
      "SARIMA(2, 1, 0)x(1, 1, 0, 12)12 - AIC:1085.5130224698103\n",
      "SARIMA(2, 1, 0)x(2, 1, 0, 12)12 - AIC:1087.0798166452512\n",
      "SARIMA(2, 1, 0)x(2, 1, 1, 12)12 - AIC:1089.0728952073437\n",
      "SARIMA(2, 1, 0)x(2, 2, 0, 12)12 - AIC:968.7284039164548\n",
      "SARIMA(2, 1, 0)x(2, 2, 1, 12)12 - AIC:965.0505408824164\n"
     ]
    },
    {
     "name": "stderr",
     "output_type": "stream",
     "text": [
      "/home/wesley/anaconda3/lib/python3.6/site-packages/statsmodels/base/model.py:496: ConvergenceWarning: Maximum Likelihood optimization failed to converge. Check mle_retvals\n",
      "  \"Check mle_retvals\", ConvergenceWarning)\n"
     ]
    },
    {
     "name": "stdout",
     "output_type": "stream",
     "text": [
      "SARIMA(2, 1, 0)x(2, 3, 1, 12)12 - AIC:855.3364370504211\n",
      "SARIMA(2, 1, 1)x(0, 0, 0, 12)12 - AIC:1240.4998862016978\n",
      "SARIMA(2, 1, 1)x(0, 0, 1, 12)12 - AIC:1241.4168561923063\n",
      "SARIMA(2, 1, 1)x(0, 2, 0, 12)12 - AIC:1008.384350241465\n",
      "SARIMA(2, 1, 1)x(0, 3, 0, 12)12 - AIC:878.9883633918319\n",
      "SARIMA(2, 1, 1)x(1, 0, 0, 12)12 - AIC:1240.5505163555556\n",
      "SARIMA(2, 1, 1)x(1, 0, 1, 12)12 - AIC:1238.6247507956475\n",
      "SARIMA(2, 1, 1)x(2, 2, 0, 12)12 - AIC:995.5257382835387\n",
      "SARIMA(2, 1, 1)x(2, 2, 1, 12)12 - AIC:967.0658604273088\n"
     ]
    },
    {
     "name": "stderr",
     "output_type": "stream",
     "text": [
      "/home/wesley/anaconda3/lib/python3.6/site-packages/statsmodels/base/model.py:496: ConvergenceWarning: Maximum Likelihood optimization failed to converge. Check mle_retvals\n",
      "  \"Check mle_retvals\", ConvergenceWarning)\n"
     ]
    },
    {
     "name": "stdout",
     "output_type": "stream",
     "text": [
      "SARIMA(2, 1, 1)x(2, 3, 1, 12)12 - AIC:856.1612592206066\n",
      "SARIMA(2, 1, 2)x(0, 0, 0, 12)12 - AIC:nan\n",
      "SARIMA(2, 1, 2)x(0, 0, 1, 12)12 - AIC:nan\n",
      "SARIMA(2, 1, 2)x(0, 1, 0, 12)12 - AIC:nan\n",
      "SARIMA(2, 1, 2)x(0, 1, 1, 12)12 - AIC:nan\n",
      "SARIMA(2, 1, 2)x(0, 2, 0, 12)12 - AIC:1006.2847195758739\n",
      "SARIMA(2, 1, 2)x(0, 3, 0, 12)12 - AIC:877.1572960734114\n",
      "SARIMA(2, 1, 2)x(1, 0, 0, 12)12 - AIC:nan\n",
      "SARIMA(2, 1, 2)x(1, 0, 1, 12)12 - AIC:nan\n",
      "SARIMA(2, 1, 2)x(1, 1, 0, 12)12 - AIC:nan\n",
      "SARIMA(2, 1, 2)x(2, 1, 0, 12)12 - AIC:nan\n",
      "SARIMA(2, 1, 2)x(2, 1, 1, 12)12 - AIC:nan\n",
      "SARIMA(2, 1, 2)x(2, 2, 0, 12)12 - AIC:970.6079791576155\n"
     ]
    },
    {
     "name": "stderr",
     "output_type": "stream",
     "text": [
      "/home/wesley/anaconda3/lib/python3.6/site-packages/statsmodels/base/model.py:496: ConvergenceWarning: Maximum Likelihood optimization failed to converge. Check mle_retvals\n",
      "  \"Check mle_retvals\", ConvergenceWarning)\n"
     ]
    },
    {
     "name": "stdout",
     "output_type": "stream",
     "text": [
      "SARIMA(2, 1, 2)x(2, 2, 1, 12)12 - AIC:967.3618514235066\n",
      "SARIMA(2, 1, 2)x(2, 3, 1, 12)12 - AIC:1028.5427961924756\n",
      "SARIMA(2, 1, 3)x(0, 1, 0, 12)12 - AIC:nan\n",
      "SARIMA(2, 1, 3)x(0, 1, 1, 12)12 - AIC:nan\n",
      "SARIMA(2, 1, 3)x(0, 2, 0, 12)12 - AIC:nan\n",
      "SARIMA(2, 1, 3)x(0, 3, 0, 12)12 - AIC:nan\n",
      "SARIMA(2, 1, 3)x(1, 1, 0, 12)12 - AIC:nan\n",
      "SARIMA(2, 1, 3)x(2, 1, 0, 12)12 - AIC:nan\n",
      "SARIMA(2, 1, 3)x(2, 1, 1, 12)12 - AIC:nan\n",
      "SARIMA(2, 1, 3)x(2, 2, 0, 12)12 - AIC:nan\n",
      "SARIMA(2, 1, 3)x(2, 2, 1, 12)12 - AIC:nan\n",
      "SARIMA(2, 1, 3)x(2, 3, 1, 12)12 - AIC:nan\n",
      "SARIMA(2, 2, 0)x(0, 0, 0, 12)12 - AIC:1237.5251168885472\n",
      "SARIMA(2, 2, 0)x(0, 0, 1, 12)12 - AIC:1238.097166907795\n",
      "SARIMA(2, 2, 0)x(0, 1, 0, 12)12 - AIC:1103.602052671426\n",
      "SARIMA(2, 2, 0)x(0, 1, 1, 12)12 - AIC:1088.766263993353\n",
      "SARIMA(2, 2, 0)x(0, 2, 0, 12)12 - AIC:1001.8257996147444\n",
      "SARIMA(2, 2, 0)x(0, 3, 0, 12)12 - AIC:868.041510531967\n",
      "SARIMA(2, 2, 0)x(1, 0, 0, 12)12 - AIC:1237.2292102297877\n",
      "SARIMA(2, 2, 0)x(1, 0, 1, 12)12 - AIC:1235.8715729275266\n",
      "SARIMA(2, 2, 0)x(1, 1, 0, 12)12 - AIC:1088.9020016704983\n",
      "SARIMA(2, 2, 0)x(1, 1, 1, 12)12 - AIC:1088.579552258261\n",
      "SARIMA(2, 2, 0)x(2, 0, 0, 12)12 - AIC:1234.4645132187768\n",
      "SARIMA(2, 2, 0)x(2, 0, 1, 12)12 - AIC:1236.1878269654653\n",
      "SARIMA(2, 2, 0)x(2, 1, 0, 12)12 - AIC:1088.5364357981025\n",
      "SARIMA(2, 2, 0)x(2, 1, 1, 12)12 - AIC:1090.4255310433684\n",
      "SARIMA(2, 2, 0)x(2, 2, 0, 12)12 - AIC:972.492601731495\n"
     ]
    },
    {
     "name": "stderr",
     "output_type": "stream",
     "text": [
      "/home/wesley/anaconda3/lib/python3.6/site-packages/statsmodels/base/model.py:496: ConvergenceWarning: Maximum Likelihood optimization failed to converge. Check mle_retvals\n",
      "  \"Check mle_retvals\", ConvergenceWarning)\n"
     ]
    },
    {
     "name": "stdout",
     "output_type": "stream",
     "text": [
      "SARIMA(2, 2, 0)x(2, 2, 1, 12)12 - AIC:965.3033387045948\n",
      "SARIMA(2, 2, 0)x(3, 0, 0, 12)12 - AIC:1236.1945191760851\n",
      "SARIMA(2, 2, 0)x(3, 0, 1, 12)12 - AIC:1238.4207493487502\n",
      "SARIMA(2, 2, 1)x(0, 0, 0, 12)12 - AIC:1239.5120298051863\n",
      "SARIMA(2, 2, 1)x(0, 0, 1, 12)12 - AIC:1240.0390249921595\n",
      "SARIMA(2, 2, 1)x(0, 1, 0, 12)12 - AIC:1103.0320017419563\n",
      "SARIMA(2, 2, 1)x(0, 1, 1, 12)12 - AIC:1089.5708495592664\n",
      "SARIMA(2, 2, 1)x(0, 2, 0, 12)12 - AIC:1002.2466827782658\n",
      "SARIMA(2, 2, 1)x(0, 3, 0, 12)12 - AIC:869.3422735109122\n",
      "SARIMA(2, 2, 1)x(1, 0, 0, 12)12 - AIC:1239.0869565515661\n",
      "SARIMA(2, 2, 1)x(1, 0, 1, 12)12 - AIC:1237.589726909839\n",
      "SARIMA(2, 2, 1)x(1, 1, 0, 12)12 - AIC:1080.6424073098517\n",
      "SARIMA(2, 2, 1)x(1, 1, 1, 12)12 - AIC:1082.3659719284612\n",
      "SARIMA(2, 2, 1)x(2, 0, 0, 12)12 - AIC:1235.9026593957467\n",
      "SARIMA(2, 2, 1)x(2, 0, 1, 12)12 - AIC:1237.7139090537523\n",
      "SARIMA(2, 2, 1)x(2, 1, 0, 12)12 - AIC:1088.823943165301\n"
     ]
    },
    {
     "name": "stderr",
     "output_type": "stream",
     "text": [
      "/home/wesley/anaconda3/lib/python3.6/site-packages/statsmodels/base/model.py:496: ConvergenceWarning: Maximum Likelihood optimization failed to converge. Check mle_retvals\n",
      "  \"Check mle_retvals\", ConvergenceWarning)\n"
     ]
    },
    {
     "name": "stdout",
     "output_type": "stream",
     "text": [
      "SARIMA(2, 2, 1)x(2, 1, 1, 12)12 - AIC:1084.9769604246776\n"
     ]
    },
    {
     "name": "stderr",
     "output_type": "stream",
     "text": [
      "/home/wesley/anaconda3/lib/python3.6/site-packages/statsmodels/base/model.py:496: ConvergenceWarning: Maximum Likelihood optimization failed to converge. Check mle_retvals\n",
      "  \"Check mle_retvals\", ConvergenceWarning)\n"
     ]
    },
    {
     "name": "stdout",
     "output_type": "stream",
     "text": [
      "SARIMA(2, 2, 1)x(2, 2, 0, 12)12 - AIC:963.2383950774719\n",
      "SARIMA(2, 2, 1)x(2, 2, 1, 12)12 - AIC:960.0712020572684\n",
      "SARIMA(2, 2, 1)x(3, 0, 0, 12)12 - AIC:1237.7086696697943\n",
      "SARIMA(2, 2, 1)x(3, 0, 1, 12)12 - AIC:1239.8864364249855\n",
      "SARIMA(2, 2, 2)x(0, 0, 0, 12)12 - AIC:1241.2236998746619\n",
      "SARIMA(2, 2, 2)x(0, 0, 1, 12)12 - AIC:1241.5582999314759\n",
      "SARIMA(2, 2, 2)x(0, 1, 0, 12)12 - AIC:nan\n",
      "SARIMA(2, 2, 2)x(0, 1, 1, 12)12 - AIC:nan\n",
      "SARIMA(2, 2, 2)x(0, 2, 0, 12)12 - AIC:nan\n",
      "SARIMA(2, 2, 2)x(0, 3, 0, 12)12 - AIC:871.3195969105699\n",
      "SARIMA(2, 2, 2)x(1, 0, 0, 12)12 - AIC:1240.5587705083065\n",
      "SARIMA(2, 2, 2)x(1, 0, 1, 12)12 - AIC:1239.3780261203583\n",
      "SARIMA(2, 2, 2)x(1, 1, 0, 12)12 - AIC:nan\n",
      "SARIMA(2, 2, 2)x(1, 1, 1, 12)12 - AIC:nan\n",
      "SARIMA(2, 2, 2)x(2, 0, 0, 12)12 - AIC:1237.9025861525818\n"
     ]
    },
    {
     "name": "stderr",
     "output_type": "stream",
     "text": [
      "/home/wesley/anaconda3/lib/python3.6/site-packages/statsmodels/base/model.py:496: ConvergenceWarning: Maximum Likelihood optimization failed to converge. Check mle_retvals\n",
      "  \"Check mle_retvals\", ConvergenceWarning)\n"
     ]
    },
    {
     "name": "stdout",
     "output_type": "stream",
     "text": [
      "SARIMA(2, 2, 2)x(2, 0, 1, 12)12 - AIC:1239.7142092401234\n",
      "SARIMA(2, 2, 2)x(2, 1, 0, 12)12 - AIC:nan\n",
      "SARIMA(2, 2, 2)x(2, 1, 1, 12)12 - AIC:nan\n",
      "SARIMA(2, 2, 2)x(2, 2, 0, 12)12 - AIC:nan\n",
      "SARIMA(2, 2, 2)x(2, 2, 1, 12)12 - AIC:nan\n"
     ]
    },
    {
     "name": "stderr",
     "output_type": "stream",
     "text": [
      "/home/wesley/anaconda3/lib/python3.6/site-packages/statsmodels/base/model.py:496: ConvergenceWarning: Maximum Likelihood optimization failed to converge. Check mle_retvals\n",
      "  \"Check mle_retvals\", ConvergenceWarning)\n"
     ]
    },
    {
     "name": "stdout",
     "output_type": "stream",
     "text": [
      "SARIMA(2, 2, 2)x(3, 0, 0, 12)12 - AIC:1239.750497933092\n"
     ]
    },
    {
     "name": "stderr",
     "output_type": "stream",
     "text": [
      "/home/wesley/anaconda3/lib/python3.6/site-packages/statsmodels/base/model.py:496: ConvergenceWarning: Maximum Likelihood optimization failed to converge. Check mle_retvals\n",
      "  \"Check mle_retvals\", ConvergenceWarning)\n"
     ]
    },
    {
     "name": "stdout",
     "output_type": "stream",
     "text": [
      "SARIMA(2, 2, 2)x(3, 0, 1, 12)12 - AIC:1241.900235885562\n",
      "SARIMA(2, 2, 3)x(0, 0, 0, 12)12 - AIC:1242.9803904346654\n",
      "SARIMA(2, 2, 3)x(0, 0, 1, 12)12 - AIC:1243.4592776066559\n",
      "SARIMA(2, 2, 3)x(0, 1, 0, 12)12 - AIC:1106.5702745593305\n"
     ]
    },
    {
     "name": "stderr",
     "output_type": "stream",
     "text": [
      "/home/wesley/anaconda3/lib/python3.6/site-packages/statsmodels/base/model.py:496: ConvergenceWarning: Maximum Likelihood optimization failed to converge. Check mle_retvals\n",
      "  \"Check mle_retvals\", ConvergenceWarning)\n"
     ]
    },
    {
     "name": "stdout",
     "output_type": "stream",
     "text": [
      "SARIMA(2, 2, 3)x(0, 1, 1, 12)12 - AIC:1093.6632048781646\n"
     ]
    },
    {
     "name": "stderr",
     "output_type": "stream",
     "text": [
      "/home/wesley/anaconda3/lib/python3.6/site-packages/statsmodels/base/model.py:496: ConvergenceWarning: Maximum Likelihood optimization failed to converge. Check mle_retvals\n",
      "  \"Check mle_retvals\", ConvergenceWarning)\n"
     ]
    },
    {
     "name": "stdout",
     "output_type": "stream",
     "text": [
      "SARIMA(2, 2, 3)x(0, 2, 0, 12)12 - AIC:1004.8523669859552\n",
      "SARIMA(2, 2, 3)x(0, 3, 0, 12)12 - AIC:nan\n",
      "SARIMA(2, 2, 3)x(1, 0, 0, 12)12 - AIC:1242.4804541829963\n"
     ]
    },
    {
     "name": "stderr",
     "output_type": "stream",
     "text": [
      "/home/wesley/anaconda3/lib/python3.6/site-packages/statsmodels/base/model.py:496: ConvergenceWarning: Maximum Likelihood optimization failed to converge. Check mle_retvals\n",
      "  \"Check mle_retvals\", ConvergenceWarning)\n"
     ]
    },
    {
     "name": "stdout",
     "output_type": "stream",
     "text": [
      "SARIMA(2, 2, 3)x(1, 0, 1, 12)12 - AIC:1237.0657285743157\n"
     ]
    },
    {
     "name": "stderr",
     "output_type": "stream",
     "text": [
      "/home/wesley/anaconda3/lib/python3.6/site-packages/statsmodels/base/model.py:496: ConvergenceWarning: Maximum Likelihood optimization failed to converge. Check mle_retvals\n",
      "  \"Check mle_retvals\", ConvergenceWarning)\n"
     ]
    },
    {
     "name": "stdout",
     "output_type": "stream",
     "text": [
      "SARIMA(2, 2, 3)x(1, 1, 0, 12)12 - AIC:1092.0839528623155\n"
     ]
    },
    {
     "name": "stderr",
     "output_type": "stream",
     "text": [
      "/home/wesley/anaconda3/lib/python3.6/site-packages/statsmodels/base/model.py:496: ConvergenceWarning: Maximum Likelihood optimization failed to converge. Check mle_retvals\n",
      "  \"Check mle_retvals\", ConvergenceWarning)\n"
     ]
    },
    {
     "name": "stdout",
     "output_type": "stream",
     "text": [
      "SARIMA(2, 2, 3)x(1, 1, 1, 12)12 - AIC:1093.884814827703\n"
     ]
    },
    {
     "name": "stderr",
     "output_type": "stream",
     "text": [
      "/home/wesley/anaconda3/lib/python3.6/site-packages/statsmodels/base/model.py:496: ConvergenceWarning: Maximum Likelihood optimization failed to converge. Check mle_retvals\n",
      "  \"Check mle_retvals\", ConvergenceWarning)\n"
     ]
    },
    {
     "name": "stdout",
     "output_type": "stream",
     "text": [
      "SARIMA(2, 2, 3)x(2, 0, 0, 12)12 - AIC:1234.6108592996118\n"
     ]
    },
    {
     "name": "stderr",
     "output_type": "stream",
     "text": [
      "/home/wesley/anaconda3/lib/python3.6/site-packages/statsmodels/base/model.py:496: ConvergenceWarning: Maximum Likelihood optimization failed to converge. Check mle_retvals\n",
      "  \"Check mle_retvals\", ConvergenceWarning)\n"
     ]
    },
    {
     "name": "stdout",
     "output_type": "stream",
     "text": [
      "SARIMA(2, 2, 3)x(2, 0, 1, 12)12 - AIC:1236.0722242599788\n"
     ]
    },
    {
     "name": "stderr",
     "output_type": "stream",
     "text": [
      "/home/wesley/anaconda3/lib/python3.6/site-packages/statsmodels/base/model.py:496: ConvergenceWarning: Maximum Likelihood optimization failed to converge. Check mle_retvals\n",
      "  \"Check mle_retvals\", ConvergenceWarning)\n"
     ]
    },
    {
     "name": "stdout",
     "output_type": "stream",
     "text": [
      "SARIMA(2, 2, 3)x(2, 1, 0, 12)12 - AIC:1092.194637367571\n"
     ]
    },
    {
     "name": "stderr",
     "output_type": "stream",
     "text": [
      "/home/wesley/anaconda3/lib/python3.6/site-packages/statsmodels/base/model.py:496: ConvergenceWarning: Maximum Likelihood optimization failed to converge. Check mle_retvals\n",
      "  \"Check mle_retvals\", ConvergenceWarning)\n"
     ]
    },
    {
     "name": "stdout",
     "output_type": "stream",
     "text": [
      "SARIMA(2, 2, 3)x(2, 1, 1, 12)12 - AIC:1095.407483104543\n"
     ]
    },
    {
     "name": "stderr",
     "output_type": "stream",
     "text": [
      "/home/wesley/anaconda3/lib/python3.6/site-packages/statsmodels/base/model.py:496: ConvergenceWarning: Maximum Likelihood optimization failed to converge. Check mle_retvals\n",
      "  \"Check mle_retvals\", ConvergenceWarning)\n"
     ]
    },
    {
     "name": "stdout",
     "output_type": "stream",
     "text": [
      "SARIMA(2, 2, 3)x(2, 2, 0, 12)12 - AIC:988.2736854840913\n"
     ]
    },
    {
     "name": "stderr",
     "output_type": "stream",
     "text": [
      "/home/wesley/anaconda3/lib/python3.6/site-packages/statsmodels/base/model.py:496: ConvergenceWarning: Maximum Likelihood optimization failed to converge. Check mle_retvals\n",
      "  \"Check mle_retvals\", ConvergenceWarning)\n"
     ]
    },
    {
     "name": "stdout",
     "output_type": "stream",
     "text": [
      "SARIMA(2, 2, 3)x(2, 2, 1, 12)12 - AIC:962.8754584319329\n"
     ]
    },
    {
     "name": "stderr",
     "output_type": "stream",
     "text": [
      "/home/wesley/anaconda3/lib/python3.6/site-packages/statsmodels/base/model.py:496: ConvergenceWarning: Maximum Likelihood optimization failed to converge. Check mle_retvals\n",
      "  \"Check mle_retvals\", ConvergenceWarning)\n"
     ]
    },
    {
     "name": "stdout",
     "output_type": "stream",
     "text": [
      "SARIMA(2, 2, 3)x(3, 0, 0, 12)12 - AIC:1236.5490878831101\n"
     ]
    },
    {
     "name": "stderr",
     "output_type": "stream",
     "text": [
      "/home/wesley/anaconda3/lib/python3.6/site-packages/statsmodels/base/model.py:496: ConvergenceWarning: Maximum Likelihood optimization failed to converge. Check mle_retvals\n",
      "  \"Check mle_retvals\", ConvergenceWarning)\n"
     ]
    },
    {
     "name": "stdout",
     "output_type": "stream",
     "text": [
      "SARIMA(2, 2, 3)x(3, 0, 1, 12)12 - AIC:1238.9672535837803\n",
      "SARIMA(2, 3, 0)x(0, 0, 0, 12)12 - AIC:1271.9002699666578\n",
      "SARIMA(2, 3, 0)x(0, 0, 1, 12)12 - AIC:1273.6423120361071\n",
      "SARIMA(2, 3, 0)x(0, 1, 0, 12)12 - AIC:1143.655375522908\n",
      "SARIMA(2, 3, 0)x(0, 2, 0, 12)12 - AIC:1031.3868760397966\n",
      "SARIMA(2, 3, 0)x(0, 3, 0, 12)12 - AIC:886.9156193571848\n",
      "SARIMA(2, 3, 0)x(1, 0, 0, 12)12 - AIC:1273.5601065416154\n",
      "SARIMA(2, 3, 0)x(1, 0, 1, 12)12 - AIC:1273.9450416265447\n",
      "SARIMA(2, 3, 0)x(1, 1, 0, 12)12 - AIC:1128.3234848487068\n",
      "SARIMA(2, 3, 0)x(1, 1, 1, 12)12 - AIC:1125.0313752414813\n",
      "SARIMA(2, 3, 0)x(2, 0, 0, 12)12 - AIC:1273.6878275835334\n",
      "SARIMA(2, 3, 0)x(2, 0, 1, 12)12 - AIC:1275.1427765457263\n",
      "SARIMA(2, 3, 0)x(2, 1, 0, 12)12 - AIC:1125.7270296600768\n",
      "SARIMA(2, 3, 0)x(2, 1, 1, 12)12 - AIC:1126.8093258879799\n",
      "SARIMA(2, 3, 0)x(2, 2, 0, 12)12 - AIC:1006.4152710301851\n"
     ]
    },
    {
     "name": "stderr",
     "output_type": "stream",
     "text": [
      "/home/wesley/anaconda3/lib/python3.6/site-packages/statsmodels/base/model.py:496: ConvergenceWarning: Maximum Likelihood optimization failed to converge. Check mle_retvals\n",
      "  \"Check mle_retvals\", ConvergenceWarning)\n"
     ]
    },
    {
     "name": "stdout",
     "output_type": "stream",
     "text": [
      "SARIMA(2, 3, 0)x(2, 2, 1, 12)12 - AIC:996.4725123653986\n",
      "SARIMA(2, 3, 0)x(3, 0, 1, 12)12 - AIC:1277.1417737630218\n",
      "SARIMA(2, 3, 1)x(0, 0, 0, 12)12 - AIC:1232.9213145555595\n",
      "SARIMA(2, 3, 1)x(0, 0, 1, 12)12 - AIC:1233.299488404503\n",
      "SARIMA(2, 3, 1)x(0, 1, 0, 12)12 - AIC:1098.5850367101339\n",
      "SARIMA(2, 3, 1)x(0, 2, 0, 12)12 - AIC:995.3242626572357\n",
      "SARIMA(2, 3, 1)x(0, 3, 0, 12)12 - AIC:860.1508961258984\n",
      "SARIMA(2, 3, 1)x(1, 0, 0, 12)12 - AIC:1232.2587666704576\n",
      "SARIMA(2, 3, 1)x(1, 0, 1, 12)12 - AIC:1230.5041803135116\n",
      "SARIMA(2, 3, 1)x(1, 1, 0, 12)12 - AIC:1084.613068694063\n",
      "SARIMA(2, 3, 1)x(1, 1, 1, 12)12 - AIC:1084.6102105269604\n",
      "SARIMA(2, 3, 1)x(2, 0, 0, 12)12 - AIC:1229.1543199595305\n",
      "SARIMA(2, 3, 1)x(2, 0, 1, 12)12 - AIC:1230.7957077844699\n",
      "SARIMA(2, 3, 1)x(2, 1, 0, 12)12 - AIC:1084.5235534037515\n",
      "SARIMA(2, 3, 1)x(2, 1, 1, 12)12 - AIC:1088.6379656948427\n"
     ]
    },
    {
     "name": "stderr",
     "output_type": "stream",
     "text": [
      "/home/wesley/anaconda3/lib/python3.6/site-packages/statsmodels/base/model.py:496: ConvergenceWarning: Maximum Likelihood optimization failed to converge. Check mle_retvals\n",
      "  \"Check mle_retvals\", ConvergenceWarning)\n"
     ]
    },
    {
     "name": "stdout",
     "output_type": "stream",
     "text": [
      "SARIMA(2, 3, 1)x(2, 2, 0, 12)12 - AIC:966.5650073649615\n"
     ]
    },
    {
     "name": "stderr",
     "output_type": "stream",
     "text": [
      "/home/wesley/anaconda3/lib/python3.6/site-packages/statsmodels/base/model.py:496: ConvergenceWarning: Maximum Likelihood optimization failed to converge. Check mle_retvals\n",
      "  \"Check mle_retvals\", ConvergenceWarning)\n"
     ]
    },
    {
     "name": "stdout",
     "output_type": "stream",
     "text": [
      "SARIMA(2, 3, 1)x(2, 2, 1, 12)12 - AIC:959.2312866700144\n",
      "SARIMA(2, 3, 2)x(0, 0, 0, 12)12 - AIC:nan\n",
      "SARIMA(2, 3, 2)x(0, 0, 1, 12)12 - AIC:nan\n",
      "SARIMA(2, 3, 2)x(0, 1, 0, 12)12 - AIC:nan\n",
      "SARIMA(2, 3, 2)x(0, 2, 0, 12)12 - AIC:nan\n",
      "SARIMA(2, 3, 2)x(0, 3, 0, 12)12 - AIC:862.1363596667506\n",
      "SARIMA(2, 3, 2)x(1, 0, 0, 12)12 - AIC:nan\n",
      "SARIMA(2, 3, 2)x(1, 0, 1, 12)12 - AIC:nan\n",
      "SARIMA(2, 3, 2)x(1, 1, 0, 12)12 - AIC:nan\n",
      "SARIMA(2, 3, 2)x(1, 1, 1, 12)12 - AIC:nan\n",
      "SARIMA(2, 3, 2)x(2, 0, 0, 12)12 - AIC:nan\n",
      "SARIMA(2, 3, 2)x(2, 0, 1, 12)12 - AIC:nan\n",
      "SARIMA(2, 3, 2)x(2, 1, 0, 12)12 - AIC:nan\n",
      "SARIMA(2, 3, 2)x(2, 1, 1, 12)12 - AIC:nan\n",
      "SARIMA(2, 3, 2)x(2, 2, 0, 12)12 - AIC:nan\n",
      "SARIMA(2, 3, 2)x(2, 2, 1, 12)12 - AIC:nan\n",
      "SARIMA(2, 3, 2)x(3, 0, 1, 12)12 - AIC:nan\n",
      "SARIMA(2, 3, 3)x(0, 1, 0, 12)12 - AIC:1100.6376485277656\n",
      "SARIMA(2, 3, 3)x(0, 2, 0, 12)12 - AIC:998.1887461759072\n",
      "SARIMA(2, 3, 3)x(0, 3, 0, 12)12 - AIC:865.9204342470778\n"
     ]
    },
    {
     "name": "stderr",
     "output_type": "stream",
     "text": [
      "/home/wesley/anaconda3/lib/python3.6/site-packages/statsmodels/base/model.py:496: ConvergenceWarning: Maximum Likelihood optimization failed to converge. Check mle_retvals\n",
      "  \"Check mle_retvals\", ConvergenceWarning)\n"
     ]
    },
    {
     "name": "stdout",
     "output_type": "stream",
     "text": [
      "SARIMA(2, 3, 3)x(1, 1, 0, 12)12 - AIC:1099.2408312972377\n"
     ]
    },
    {
     "name": "stderr",
     "output_type": "stream",
     "text": [
      "/home/wesley/anaconda3/lib/python3.6/site-packages/statsmodels/base/model.py:496: ConvergenceWarning: Maximum Likelihood optimization failed to converge. Check mle_retvals\n",
      "  \"Check mle_retvals\", ConvergenceWarning)\n"
     ]
    },
    {
     "name": "stdout",
     "output_type": "stream",
     "text": [
      "SARIMA(2, 3, 3)x(1, 1, 1, 12)12 - AIC:1100.840047742687\n"
     ]
    },
    {
     "name": "stderr",
     "output_type": "stream",
     "text": [
      "/home/wesley/anaconda3/lib/python3.6/site-packages/statsmodels/base/model.py:496: ConvergenceWarning: Maximum Likelihood optimization failed to converge. Check mle_retvals\n",
      "  \"Check mle_retvals\", ConvergenceWarning)\n"
     ]
    },
    {
     "name": "stdout",
     "output_type": "stream",
     "text": [
      "SARIMA(2, 3, 3)x(2, 1, 0, 12)12 - AIC:1086.9499316313245\n"
     ]
    },
    {
     "name": "stderr",
     "output_type": "stream",
     "text": [
      "/home/wesley/anaconda3/lib/python3.6/site-packages/statsmodels/base/model.py:496: ConvergenceWarning: Maximum Likelihood optimization failed to converge. Check mle_retvals\n",
      "  \"Check mle_retvals\", ConvergenceWarning)\n"
     ]
    },
    {
     "name": "stdout",
     "output_type": "stream",
     "text": [
      "SARIMA(2, 3, 3)x(2, 1, 1, 12)12 - AIC:1090.797881941406\n"
     ]
    },
    {
     "name": "stderr",
     "output_type": "stream",
     "text": [
      "/home/wesley/anaconda3/lib/python3.6/site-packages/statsmodels/base/model.py:496: ConvergenceWarning: Maximum Likelihood optimization failed to converge. Check mle_retvals\n",
      "  \"Check mle_retvals\", ConvergenceWarning)\n"
     ]
    },
    {
     "name": "stdout",
     "output_type": "stream",
     "text": [
      "SARIMA(2, 3, 3)x(2, 2, 0, 12)12 - AIC:991.5890933761063\n"
     ]
    },
    {
     "name": "stderr",
     "output_type": "stream",
     "text": [
      "/home/wesley/anaconda3/lib/python3.6/site-packages/statsmodels/base/model.py:496: ConvergenceWarning: Maximum Likelihood optimization failed to converge. Check mle_retvals\n",
      "  \"Check mle_retvals\", ConvergenceWarning)\n"
     ]
    },
    {
     "name": "stdout",
     "output_type": "stream",
     "text": [
      "SARIMA(2, 3, 3)x(2, 2, 1, 12)12 - AIC:970.6426552877524\n",
      "SARIMA(3, 0, 0)x(0, 0, 0, 12)12 - AIC:1255.385284689174\n",
      "SARIMA(3, 0, 0)x(0, 1, 0, 12)12 - AIC:1117.087716742833\n",
      "SARIMA(3, 0, 0)x(0, 1, 1, 12)12 - AIC:1104.0521539907866\n",
      "SARIMA(3, 0, 0)x(0, 2, 0, 12)12 - AIC:1017.6670376898405\n",
      "SARIMA(3, 0, 0)x(0, 3, 0, 12)12 - AIC:888.8353487739805\n",
      "SARIMA(3, 0, 0)x(1, 1, 0, 12)12 - AIC:1099.0294730755538\n",
      "SARIMA(3, 0, 0)x(1, 1, 1, 12)12 - AIC:1100.7512964179248\n",
      "SARIMA(3, 0, 1)x(0, 0, 0, 12)12 - AIC:1256.454023904451\n",
      "SARIMA(3, 0, 1)x(0, 1, 0, 12)12 - AIC:1112.8823956846866\n",
      "SARIMA(3, 0, 1)x(0, 1, 1, 12)12 - AIC:1104.1064876323483\n",
      "SARIMA(3, 0, 1)x(0, 2, 0, 12)12 - AIC:999.6275311997196\n",
      "SARIMA(3, 0, 1)x(0, 3, 0, 12)12 - AIC:872.485722460247\n",
      "SARIMA(3, 0, 1)x(1, 1, 0, 12)12 - AIC:1100.2772214417962\n",
      "SARIMA(3, 0, 1)x(1, 1, 1, 12)12 - AIC:1102.0045515398715\n",
      "SARIMA(3, 0, 2)x(0, 3, 0, 12)12 - AIC:874.4839659052724\n",
      "SARIMA(3, 1, 0)x(0, 0, 0, 12)12 - AIC:1239.7283931592913\n",
      "SARIMA(3, 1, 0)x(0, 0, 1, 12)12 - AIC:1240.4631372670856\n",
      "SARIMA(3, 1, 0)x(0, 1, 0, 12)12 - AIC:1105.2470104956012\n",
      "SARIMA(3, 1, 0)x(0, 1, 1, 12)12 - AIC:1090.2362789786455\n",
      "SARIMA(3, 1, 0)x(0, 2, 0, 12)12 - AIC:1007.6180037028992\n",
      "SARIMA(3, 1, 0)x(0, 3, 0, 12)12 - AIC:878.4699176354934\n",
      "SARIMA(3, 1, 0)x(1, 0, 0, 12)12 - AIC:1239.4379844460348\n",
      "SARIMA(3, 1, 0)x(1, 0, 1, 12)12 - AIC:1237.111998185168\n",
      "SARIMA(3, 1, 0)x(1, 1, 0, 12)12 - AIC:1086.2222446498886\n",
      "SARIMA(3, 1, 0)x(2, 1, 0, 12)12 - AIC:1087.4587702217177\n",
      "SARIMA(3, 1, 0)x(2, 1, 1, 12)12 - AIC:1089.458726316032\n",
      "SARIMA(3, 1, 0)x(2, 2, 0, 12)12 - AIC:970.4149060145138\n",
      "SARIMA(3, 1, 0)x(2, 2, 1, 12)12 - AIC:966.0432991284896\n"
     ]
    },
    {
     "name": "stderr",
     "output_type": "stream",
     "text": [
      "/home/wesley/anaconda3/lib/python3.6/site-packages/statsmodels/base/model.py:496: ConvergenceWarning: Maximum Likelihood optimization failed to converge. Check mle_retvals\n",
      "  \"Check mle_retvals\", ConvergenceWarning)\n"
     ]
    },
    {
     "name": "stdout",
     "output_type": "stream",
     "text": [
      "SARIMA(3, 1, 0)x(2, 3, 1, 12)12 - AIC:856.0499487415146\n",
      "SARIMA(3, 1, 1)x(0, 0, 0, 12)12 - AIC:1241.040087430351\n",
      "SARIMA(3, 1, 1)x(0, 0, 1, 12)12 - AIC:1241.809607810929\n",
      "SARIMA(3, 1, 1)x(0, 1, 0, 12)12 - AIC:1107.2445328257645\n",
      "SARIMA(3, 1, 1)x(0, 1, 1, 12)12 - AIC:1091.9836151989623\n",
      "SARIMA(3, 1, 1)x(0, 2, 0, 12)12 - AIC:1009.6175115862856\n"
     ]
    },
    {
     "name": "stderr",
     "output_type": "stream",
     "text": [
      "/home/wesley/anaconda3/lib/python3.6/site-packages/statsmodels/base/model.py:496: ConvergenceWarning: Maximum Likelihood optimization failed to converge. Check mle_retvals\n",
      "  \"Check mle_retvals\", ConvergenceWarning)\n"
     ]
    },
    {
     "name": "stdout",
     "output_type": "stream",
     "text": [
      "SARIMA(3, 1, 1)x(0, 3, 0, 12)12 - AIC:878.5582540642429\n",
      "SARIMA(3, 1, 1)x(1, 0, 0, 12)12 - AIC:1240.847672529261\n",
      "SARIMA(3, 1, 1)x(1, 0, 1, 12)12 - AIC:1238.5055815207884\n",
      "SARIMA(3, 1, 1)x(1, 1, 0, 12)12 - AIC:1087.9783093234614\n",
      "SARIMA(3, 1, 1)x(2, 1, 0, 12)12 - AIC:1089.555446491397\n"
     ]
    },
    {
     "name": "stderr",
     "output_type": "stream",
     "text": [
      "/home/wesley/anaconda3/lib/python3.6/site-packages/statsmodels/base/model.py:496: ConvergenceWarning: Maximum Likelihood optimization failed to converge. Check mle_retvals\n",
      "  \"Check mle_retvals\", ConvergenceWarning)\n"
     ]
    },
    {
     "name": "stdout",
     "output_type": "stream",
     "text": [
      "SARIMA(3, 1, 1)x(2, 1, 1, 12)12 - AIC:1091.1144879499352\n"
     ]
    },
    {
     "name": "stderr",
     "output_type": "stream",
     "text": [
      "/home/wesley/anaconda3/lib/python3.6/site-packages/statsmodels/base/model.py:496: ConvergenceWarning: Maximum Likelihood optimization failed to converge. Check mle_retvals\n",
      "  \"Check mle_retvals\", ConvergenceWarning)\n"
     ]
    },
    {
     "name": "stdout",
     "output_type": "stream",
     "text": [
      "SARIMA(3, 1, 1)x(2, 2, 0, 12)12 - AIC:970.5922427159777\n",
      "SARIMA(3, 1, 1)x(2, 2, 1, 12)12 - AIC:969.0436941783468\n"
     ]
    },
    {
     "name": "stderr",
     "output_type": "stream",
     "text": [
      "/home/wesley/anaconda3/lib/python3.6/site-packages/statsmodels/base/model.py:496: ConvergenceWarning: Maximum Likelihood optimization failed to converge. Check mle_retvals\n",
      "  \"Check mle_retvals\", ConvergenceWarning)\n"
     ]
    },
    {
     "name": "stdout",
     "output_type": "stream",
     "text": [
      "SARIMA(3, 1, 1)x(2, 3, 1, 12)12 - AIC:858.3832392601814\n",
      "SARIMA(3, 1, 2)x(0, 0, 0, 12)12 - AIC:nan\n",
      "SARIMA(3, 1, 2)x(0, 0, 1, 12)12 - AIC:nan\n",
      "SARIMA(3, 1, 2)x(0, 1, 0, 12)12 - AIC:nan\n",
      "SARIMA(3, 1, 2)x(0, 1, 1, 12)12 - AIC:nan\n",
      "SARIMA(3, 1, 2)x(0, 2, 0, 12)12 - AIC:nan\n",
      "SARIMA(3, 1, 2)x(0, 3, 0, 12)12 - AIC:879.1456190550406\n",
      "SARIMA(3, 1, 2)x(1, 0, 0, 12)12 - AIC:nan\n",
      "SARIMA(3, 1, 2)x(1, 0, 1, 12)12 - AIC:nan\n",
      "SARIMA(3, 1, 2)x(1, 1, 0, 12)12 - AIC:nan\n",
      "SARIMA(3, 1, 2)x(2, 1, 0, 12)12 - AIC:nan\n",
      "SARIMA(3, 1, 2)x(2, 1, 1, 12)12 - AIC:nan\n",
      "SARIMA(3, 1, 2)x(2, 2, 0, 12)12 - AIC:nan\n",
      "SARIMA(3, 1, 2)x(2, 2, 1, 12)12 - AIC:nan\n"
     ]
    },
    {
     "name": "stderr",
     "output_type": "stream",
     "text": [
      "/home/wesley/anaconda3/lib/python3.6/site-packages/statsmodels/base/model.py:496: ConvergenceWarning: Maximum Likelihood optimization failed to converge. Check mle_retvals\n",
      "  \"Check mle_retvals\", ConvergenceWarning)\n"
     ]
    },
    {
     "name": "stdout",
     "output_type": "stream",
     "text": [
      "SARIMA(3, 1, 2)x(2, 3, 1, 12)12 - AIC:869.8790454869476\n",
      "SARIMA(3, 1, 3)x(0, 1, 0, 12)12 - AIC:1098.2999224418058\n",
      "SARIMA(3, 1, 3)x(0, 1, 1, 12)12 - AIC:1086.128914472344\n",
      "SARIMA(3, 1, 3)x(0, 2, 0, 12)12 - AIC:nan\n",
      "SARIMA(3, 1, 3)x(0, 3, 0, 12)12 - AIC:nan\n",
      "SARIMA(3, 1, 3)x(1, 1, 0, 12)12 - AIC:1083.9709790333825\n",
      "SARIMA(3, 1, 3)x(2, 1, 0, 12)12 - AIC:1084.3850055548446\n"
     ]
    },
    {
     "name": "stderr",
     "output_type": "stream",
     "text": [
      "/home/wesley/anaconda3/lib/python3.6/site-packages/statsmodels/base/model.py:496: ConvergenceWarning: Maximum Likelihood optimization failed to converge. Check mle_retvals\n",
      "  \"Check mle_retvals\", ConvergenceWarning)\n"
     ]
    },
    {
     "name": "stdout",
     "output_type": "stream",
     "text": [
      "SARIMA(3, 1, 3)x(2, 1, 1, 12)12 - AIC:1087.961239229497\n",
      "SARIMA(3, 1, 3)x(2, 2, 0, 12)12 - AIC:nan\n",
      "SARIMA(3, 1, 3)x(2, 2, 1, 12)12 - AIC:nan\n",
      "SARIMA(3, 1, 3)x(2, 3, 1, 12)12 - AIC:nan\n",
      "SARIMA(3, 2, 0)x(0, 0, 0, 12)12 - AIC:1239.507490682504\n",
      "SARIMA(3, 2, 0)x(0, 0, 1, 12)12 - AIC:1240.02117253351\n",
      "SARIMA(3, 2, 0)x(0, 1, 0, 12)12 - AIC:1102.853595938144\n",
      "SARIMA(3, 2, 0)x(0, 1, 1, 12)12 - AIC:1089.5345243040183\n",
      "SARIMA(3, 2, 0)x(0, 2, 0, 12)12 - AIC:1002.1203225844807\n",
      "SARIMA(3, 2, 0)x(0, 3, 0, 12)12 - AIC:868.9064792270889\n",
      "SARIMA(3, 2, 0)x(1, 0, 0, 12)12 - AIC:1239.0484076989246\n",
      "SARIMA(3, 2, 0)x(1, 0, 1, 12)12 - AIC:1237.5432816614575\n",
      "SARIMA(3, 2, 0)x(1, 1, 0, 12)12 - AIC:1088.5423084502715\n",
      "SARIMA(3, 2, 0)x(1, 1, 1, 12)12 - AIC:1089.1289662101412\n",
      "SARIMA(3, 2, 0)x(2, 0, 0, 12)12 - AIC:1235.8758953671597\n",
      "SARIMA(3, 2, 0)x(2, 0, 1, 12)12 - AIC:1237.686635755798\n",
      "SARIMA(3, 2, 0)x(2, 1, 0, 12)12 - AIC:1089.0202931640467\n",
      "SARIMA(3, 2, 0)x(2, 1, 1, 12)12 - AIC:1091.0004777791753\n",
      "SARIMA(3, 2, 0)x(2, 2, 0, 12)12 - AIC:969.2691851359522\n",
      "SARIMA(3, 2, 0)x(2, 2, 1, 12)12 - AIC:964.3339941222813\n",
      "SARIMA(3, 2, 0)x(3, 0, 0, 12)12 - AIC:1237.6809043861558\n",
      "SARIMA(3, 2, 0)x(3, 0, 1, 12)12 - AIC:1239.8596656705881\n",
      "SARIMA(3, 2, 1)x(0, 0, 0, 12)12 - AIC:1233.2092702993127\n",
      "SARIMA(3, 2, 1)x(0, 0, 1, 12)12 - AIC:1233.7659239919858\n",
      "SARIMA(3, 2, 1)x(0, 1, 0, 12)12 - AIC:1098.742722175185\n",
      "SARIMA(3, 2, 1)x(0, 1, 1, 12)12 - AIC:1085.066083384157\n",
      "SARIMA(3, 2, 1)x(0, 2, 0, 12)12 - AIC:999.5749357681293\n"
     ]
    },
    {
     "name": "stderr",
     "output_type": "stream",
     "text": [
      "/home/wesley/anaconda3/lib/python3.6/site-packages/statsmodels/base/model.py:496: ConvergenceWarning: Maximum Likelihood optimization failed to converge. Check mle_retvals\n",
      "  \"Check mle_retvals\", ConvergenceWarning)\n"
     ]
    },
    {
     "name": "stdout",
     "output_type": "stream",
     "text": [
      "SARIMA(3, 2, 1)x(0, 3, 0, 12)12 - AIC:871.9593024789092\n",
      "SARIMA(3, 2, 1)x(1, 0, 0, 12)12 - AIC:1232.5621113315628\n",
      "SARIMA(3, 2, 1)x(1, 0, 1, 12)12 - AIC:1229.7899316367875\n",
      "SARIMA(3, 2, 1)x(1, 1, 0, 12)12 - AIC:1081.126091379972\n",
      "SARIMA(3, 2, 1)x(1, 1, 1, 12)12 - AIC:1082.5498731426653\n",
      "SARIMA(3, 2, 1)x(2, 0, 0, 12)12 - AIC:1226.342030494683\n",
      "SARIMA(3, 2, 1)x(2, 0, 1, 12)12 - AIC:1228.218300245266\n",
      "SARIMA(3, 2, 1)x(2, 1, 0, 12)12 - AIC:1082.4774522145105\n",
      "SARIMA(3, 2, 1)x(2, 1, 1, 12)12 - AIC:1084.4759316170514\n"
     ]
    },
    {
     "name": "stderr",
     "output_type": "stream",
     "text": [
      "/home/wesley/anaconda3/lib/python3.6/site-packages/statsmodels/base/model.py:496: ConvergenceWarning: Maximum Likelihood optimization failed to converge. Check mle_retvals\n",
      "  \"Check mle_retvals\", ConvergenceWarning)\n"
     ]
    },
    {
     "name": "stdout",
     "output_type": "stream",
     "text": [
      "SARIMA(3, 2, 1)x(2, 2, 0, 12)12 - AIC:967.5211591535501\n"
     ]
    },
    {
     "name": "stderr",
     "output_type": "stream",
     "text": [
      "/home/wesley/anaconda3/lib/python3.6/site-packages/statsmodels/base/model.py:496: ConvergenceWarning: Maximum Likelihood optimization failed to converge. Check mle_retvals\n",
      "  \"Check mle_retvals\", ConvergenceWarning)\n"
     ]
    },
    {
     "name": "stdout",
     "output_type": "stream",
     "text": [
      "SARIMA(3, 2, 1)x(2, 2, 1, 12)12 - AIC:960.8991418649498\n",
      "SARIMA(3, 2, 1)x(3, 0, 0, 12)12 - AIC:1228.211277132058\n",
      "SARIMA(3, 2, 1)x(3, 0, 1, 12)12 - AIC:1230.3840639929938\n",
      "SARIMA(3, 2, 2)x(0, 1, 0, 12)12 - AIC:nan\n",
      "SARIMA(3, 2, 2)x(0, 1, 1, 12)12 - AIC:nan\n",
      "SARIMA(3, 2, 2)x(1, 1, 0, 12)12 - AIC:nan\n",
      "SARIMA(3, 2, 2)x(1, 1, 1, 12)12 - AIC:nan\n",
      "SARIMA(3, 2, 2)x(2, 1, 0, 12)12 - AIC:nan\n",
      "SARIMA(3, 2, 2)x(2, 1, 1, 12)12 - AIC:nan\n"
     ]
    },
    {
     "name": "stderr",
     "output_type": "stream",
     "text": [
      "/home/wesley/anaconda3/lib/python3.6/site-packages/statsmodels/base/model.py:496: ConvergenceWarning: Maximum Likelihood optimization failed to converge. Check mle_retvals\n",
      "  \"Check mle_retvals\", ConvergenceWarning)\n"
     ]
    },
    {
     "name": "stdout",
     "output_type": "stream",
     "text": [
      "SARIMA(3, 2, 3)x(0, 1, 0, 12)12 - AIC:1100.1712961857584\n"
     ]
    },
    {
     "name": "stderr",
     "output_type": "stream",
     "text": [
      "/home/wesley/anaconda3/lib/python3.6/site-packages/statsmodels/base/model.py:496: ConvergenceWarning: Maximum Likelihood optimization failed to converge. Check mle_retvals\n",
      "  \"Check mle_retvals\", ConvergenceWarning)\n"
     ]
    },
    {
     "name": "stdout",
     "output_type": "stream",
     "text": [
      "SARIMA(3, 2, 3)x(0, 1, 1, 12)12 - AIC:1095.2410820851017\n"
     ]
    },
    {
     "name": "stderr",
     "output_type": "stream",
     "text": [
      "/home/wesley/anaconda3/lib/python3.6/site-packages/statsmodels/base/model.py:496: ConvergenceWarning: Maximum Likelihood optimization failed to converge. Check mle_retvals\n",
      "  \"Check mle_retvals\", ConvergenceWarning)\n"
     ]
    },
    {
     "name": "stdout",
     "output_type": "stream",
     "text": [
      "SARIMA(3, 2, 3)x(0, 2, 0, 12)12 - AIC:1005.0359433411443\n"
     ]
    },
    {
     "name": "stderr",
     "output_type": "stream",
     "text": [
      "/home/wesley/anaconda3/lib/python3.6/site-packages/statsmodels/base/model.py:496: ConvergenceWarning: Maximum Likelihood optimization failed to converge. Check mle_retvals\n",
      "  \"Check mle_retvals\", ConvergenceWarning)\n"
     ]
    },
    {
     "name": "stdout",
     "output_type": "stream",
     "text": [
      "SARIMA(3, 2, 3)x(1, 1, 0, 12)12 - AIC:1092.0184287529246\n"
     ]
    },
    {
     "name": "stderr",
     "output_type": "stream",
     "text": [
      "/home/wesley/anaconda3/lib/python3.6/site-packages/statsmodels/base/model.py:496: ConvergenceWarning: Maximum Likelihood optimization failed to converge. Check mle_retvals\n",
      "  \"Check mle_retvals\", ConvergenceWarning)\n"
     ]
    },
    {
     "name": "stdout",
     "output_type": "stream",
     "text": [
      "SARIMA(3, 2, 3)x(1, 1, 1, 12)12 - AIC:1094.2305922414268\n"
     ]
    },
    {
     "name": "stderr",
     "output_type": "stream",
     "text": [
      "/home/wesley/anaconda3/lib/python3.6/site-packages/statsmodels/base/model.py:496: ConvergenceWarning: Maximum Likelihood optimization failed to converge. Check mle_retvals\n",
      "  \"Check mle_retvals\", ConvergenceWarning)\n"
     ]
    },
    {
     "name": "stdout",
     "output_type": "stream",
     "text": [
      "SARIMA(3, 2, 3)x(2, 1, 0, 12)12 - AIC:1094.7203064074656\n"
     ]
    },
    {
     "name": "stderr",
     "output_type": "stream",
     "text": [
      "/home/wesley/anaconda3/lib/python3.6/site-packages/statsmodels/base/model.py:496: ConvergenceWarning: Maximum Likelihood optimization failed to converge. Check mle_retvals\n",
      "  \"Check mle_retvals\", ConvergenceWarning)\n"
     ]
    },
    {
     "name": "stdout",
     "output_type": "stream",
     "text": [
      "SARIMA(3, 2, 3)x(2, 1, 1, 12)12 - AIC:1096.9817675947759\n"
     ]
    },
    {
     "name": "stderr",
     "output_type": "stream",
     "text": [
      "/home/wesley/anaconda3/lib/python3.6/site-packages/statsmodels/base/model.py:496: ConvergenceWarning: Maximum Likelihood optimization failed to converge. Check mle_retvals\n",
      "  \"Check mle_retvals\", ConvergenceWarning)\n"
     ]
    },
    {
     "name": "stdout",
     "output_type": "stream",
     "text": [
      "SARIMA(3, 2, 3)x(2, 2, 0, 12)12 - AIC:993.3990050747897\n"
     ]
    },
    {
     "name": "stderr",
     "output_type": "stream",
     "text": [
      "/home/wesley/anaconda3/lib/python3.6/site-packages/statsmodels/base/model.py:496: ConvergenceWarning: Maximum Likelihood optimization failed to converge. Check mle_retvals\n",
      "  \"Check mle_retvals\", ConvergenceWarning)\n"
     ]
    },
    {
     "name": "stdout",
     "output_type": "stream",
     "text": [
      "SARIMA(3, 2, 3)x(2, 2, 1, 12)12 - AIC:981.0608429809765\n",
      "SARIMA(3, 3, 0)x(0, 0, 0, 12)12 - AIC:1253.333072549096\n",
      "SARIMA(3, 3, 0)x(0, 0, 1, 12)12 - AIC:1254.7190955683434\n",
      "SARIMA(3, 3, 0)x(0, 1, 0, 12)12 - AIC:1123.1984392752754\n",
      "SARIMA(3, 3, 0)x(0, 2, 0, 12)12 - AIC:1016.5810025174472\n",
      "SARIMA(3, 3, 0)x(0, 3, 0, 12)12 - AIC:874.7558616824373\n",
      "SARIMA(3, 3, 0)x(1, 0, 0, 12)12 - AIC:1254.4719648557907\n",
      "SARIMA(3, 3, 0)x(1, 0, 1, 12)12 - AIC:1254.5898573373731\n",
      "SARIMA(3, 3, 0)x(1, 1, 0, 12)12 - AIC:1108.5829579864173\n",
      "SARIMA(3, 3, 0)x(1, 1, 1, 12)12 - AIC:1107.0063537778303\n",
      "SARIMA(3, 3, 0)x(2, 0, 0, 12)12 - AIC:1254.0322204763618\n",
      "SARIMA(3, 3, 0)x(2, 0, 1, 12)12 - AIC:1255.7587751466515\n",
      "SARIMA(3, 3, 0)x(2, 1, 0, 12)12 - AIC:1107.1413426690385\n",
      "SARIMA(3, 3, 0)x(2, 1, 1, 12)12 - AIC:1108.823267549042\n"
     ]
    },
    {
     "name": "stderr",
     "output_type": "stream",
     "text": [
      "/home/wesley/anaconda3/lib/python3.6/site-packages/statsmodels/base/model.py:496: ConvergenceWarning: Maximum Likelihood optimization failed to converge. Check mle_retvals\n",
      "  \"Check mle_retvals\", ConvergenceWarning)\n"
     ]
    },
    {
     "name": "stdout",
     "output_type": "stream",
     "text": [
      "SARIMA(3, 3, 0)x(2, 2, 0, 12)12 - AIC:985.8707084788492\n"
     ]
    },
    {
     "name": "stderr",
     "output_type": "stream",
     "text": [
      "/home/wesley/anaconda3/lib/python3.6/site-packages/statsmodels/base/model.py:496: ConvergenceWarning: Maximum Likelihood optimization failed to converge. Check mle_retvals\n",
      "  \"Check mle_retvals\", ConvergenceWarning)\n"
     ]
    },
    {
     "name": "stdout",
     "output_type": "stream",
     "text": [
      "SARIMA(3, 3, 0)x(2, 2, 1, 12)12 - AIC:978.0510830392728\n"
     ]
    },
    {
     "name": "stderr",
     "output_type": "stream",
     "text": [
      "/home/wesley/anaconda3/lib/python3.6/site-packages/statsmodels/base/model.py:496: ConvergenceWarning: Maximum Likelihood optimization failed to converge. Check mle_retvals\n",
      "  \"Check mle_retvals\", ConvergenceWarning)\n"
     ]
    },
    {
     "name": "stdout",
     "output_type": "stream",
     "text": [
      "SARIMA(3, 3, 0)x(3, 0, 1, 12)12 - AIC:1257.7574192318764\n",
      "SARIMA(3, 3, 1)x(0, 0, 0, 12)12 - AIC:1234.9183144677595\n",
      "SARIMA(3, 3, 1)x(0, 0, 1, 12)12 - AIC:1235.2566282142761\n",
      "SARIMA(3, 3, 1)x(0, 1, 0, 12)12 - AIC:1098.1151635554802\n",
      "SARIMA(3, 3, 1)x(0, 2, 0, 12)12 - AIC:995.8576336459548\n",
      "SARIMA(3, 3, 1)x(0, 3, 0, 12)12 - AIC:861.1154942488589\n",
      "SARIMA(3, 3, 1)x(1, 0, 0, 12)12 - AIC:1234.1160134634538\n",
      "SARIMA(3, 3, 1)x(1, 0, 1, 12)12 - AIC:1232.2322700431778\n",
      "SARIMA(3, 3, 1)x(1, 1, 0, 12)12 - AIC:1084.5118710366141\n",
      "SARIMA(3, 3, 1)x(1, 1, 1, 12)12 - AIC:1085.2983929486973\n",
      "SARIMA(3, 3, 1)x(2, 0, 0, 12)12 - AIC:1230.6273428591423\n",
      "SARIMA(3, 3, 1)x(2, 0, 1, 12)12 - AIC:1232.3690766150482\n",
      "SARIMA(3, 3, 1)x(2, 1, 0, 12)12 - AIC:1085.1767429959032\n",
      "SARIMA(3, 3, 1)x(2, 1, 1, 12)12 - AIC:1087.1687205765481\n",
      "SARIMA(3, 3, 1)x(2, 2, 0, 12)12 - AIC:963.6505291953507\n"
     ]
    },
    {
     "name": "stderr",
     "output_type": "stream",
     "text": [
      "/home/wesley/anaconda3/lib/python3.6/site-packages/statsmodels/base/model.py:496: ConvergenceWarning: Maximum Likelihood optimization failed to converge. Check mle_retvals\n",
      "  \"Check mle_retvals\", ConvergenceWarning)\n"
     ]
    },
    {
     "name": "stdout",
     "output_type": "stream",
     "text": [
      "SARIMA(3, 3, 1)x(2, 2, 1, 12)12 - AIC:958.2213357069069\n",
      "SARIMA(3, 3, 1)x(3, 0, 1, 12)12 - AIC:1234.7061904156078\n",
      "SARIMA(3, 3, 2)x(0, 0, 0, 12)12 - AIC:1235.2196614150891\n"
     ]
    },
    {
     "name": "stderr",
     "output_type": "stream",
     "text": [
      "/home/wesley/anaconda3/lib/python3.6/site-packages/statsmodels/base/model.py:496: ConvergenceWarning: Maximum Likelihood optimization failed to converge. Check mle_retvals\n",
      "  \"Check mle_retvals\", ConvergenceWarning)\n"
     ]
    },
    {
     "name": "stdout",
     "output_type": "stream",
     "text": [
      "SARIMA(3, 3, 2)x(0, 0, 1, 12)12 - AIC:1236.2270544530625\n",
      "SARIMA(3, 3, 2)x(0, 1, 0, 12)12 - AIC:1100.1151644190431\n",
      "SARIMA(3, 3, 2)x(0, 2, 0, 12)12 - AIC:997.8576302160645\n",
      "SARIMA(3, 3, 2)x(0, 3, 0, 12)12 - AIC:863.1148994525025\n"
     ]
    },
    {
     "name": "stderr",
     "output_type": "stream",
     "text": [
      "/home/wesley/anaconda3/lib/python3.6/site-packages/statsmodels/base/model.py:496: ConvergenceWarning: Maximum Likelihood optimization failed to converge. Check mle_retvals\n",
      "  \"Check mle_retvals\", ConvergenceWarning)\n"
     ]
    },
    {
     "name": "stdout",
     "output_type": "stream",
     "text": [
      "SARIMA(3, 3, 2)x(1, 0, 0, 12)12 - AIC:1235.8022939102664\n"
     ]
    },
    {
     "name": "stderr",
     "output_type": "stream",
     "text": [
      "/home/wesley/anaconda3/lib/python3.6/site-packages/statsmodels/base/model.py:496: ConvergenceWarning: Maximum Likelihood optimization failed to converge. Check mle_retvals\n",
      "  \"Check mle_retvals\", ConvergenceWarning)\n"
     ]
    },
    {
     "name": "stdout",
     "output_type": "stream",
     "text": [
      "SARIMA(3, 3, 2)x(1, 0, 1, 12)12 - AIC:1234.5062763685316\n",
      "SARIMA(3, 3, 2)x(1, 1, 0, 12)12 - AIC:1086.5118065658532\n"
     ]
    },
    {
     "name": "stderr",
     "output_type": "stream",
     "text": [
      "/home/wesley/anaconda3/lib/python3.6/site-packages/statsmodels/base/model.py:496: ConvergenceWarning: Maximum Likelihood optimization failed to converge. Check mle_retvals\n",
      "  \"Check mle_retvals\", ConvergenceWarning)\n"
     ]
    },
    {
     "name": "stdout",
     "output_type": "stream",
     "text": [
      "SARIMA(3, 3, 2)x(1, 1, 1, 12)12 - AIC:1087.2979433999433\n"
     ]
    },
    {
     "name": "stderr",
     "output_type": "stream",
     "text": [
      "/home/wesley/anaconda3/lib/python3.6/site-packages/statsmodels/base/model.py:496: ConvergenceWarning: Maximum Likelihood optimization failed to converge. Check mle_retvals\n",
      "  \"Check mle_retvals\", ConvergenceWarning)\n"
     ]
    },
    {
     "name": "stdout",
     "output_type": "stream",
     "text": [
      "SARIMA(3, 3, 2)x(2, 0, 0, 12)12 - AIC:1232.5858561839382\n"
     ]
    },
    {
     "name": "stderr",
     "output_type": "stream",
     "text": [
      "/home/wesley/anaconda3/lib/python3.6/site-packages/statsmodels/base/model.py:496: ConvergenceWarning: Maximum Likelihood optimization failed to converge. Check mle_retvals\n",
      "  \"Check mle_retvals\", ConvergenceWarning)\n"
     ]
    },
    {
     "name": "stdout",
     "output_type": "stream",
     "text": [
      "SARIMA(3, 3, 2)x(2, 0, 1, 12)12 - AIC:1234.8655099164764\n",
      "SARIMA(3, 3, 2)x(2, 1, 0, 12)12 - AIC:1087.1768928227086\n"
     ]
    },
    {
     "name": "stderr",
     "output_type": "stream",
     "text": [
      "/home/wesley/anaconda3/lib/python3.6/site-packages/statsmodels/base/model.py:496: ConvergenceWarning: Maximum Likelihood optimization failed to converge. Check mle_retvals\n",
      "  \"Check mle_retvals\", ConvergenceWarning)\n"
     ]
    },
    {
     "name": "stdout",
     "output_type": "stream",
     "text": [
      "SARIMA(3, 3, 2)x(2, 1, 1, 12)12 - AIC:1089.16804156816\n",
      "SARIMA(3, 3, 2)x(2, 2, 0, 12)12 - AIC:965.6494902597371\n",
      "SARIMA(3, 3, 2)x(2, 2, 1, 12)12 - AIC:960.191253290972\n",
      "SARIMA(3, 3, 2)x(3, 0, 1, 12)12 - AIC:1236.653720858123\n",
      "SARIMA(3, 3, 3)x(0, 0, 0, 12)12 - AIC:nan\n",
      "SARIMA(3, 3, 3)x(0, 0, 1, 12)12 - AIC:nan\n"
     ]
    },
    {
     "name": "stderr",
     "output_type": "stream",
     "text": [
      "/home/wesley/anaconda3/lib/python3.6/site-packages/statsmodels/base/model.py:496: ConvergenceWarning: Maximum Likelihood optimization failed to converge. Check mle_retvals\n",
      "  \"Check mle_retvals\", ConvergenceWarning)\n"
     ]
    },
    {
     "name": "stdout",
     "output_type": "stream",
     "text": [
      "SARIMA(3, 3, 3)x(0, 1, 0, 12)12 - AIC:1102.0303421131925\n"
     ]
    },
    {
     "name": "stderr",
     "output_type": "stream",
     "text": [
      "/home/wesley/anaconda3/lib/python3.6/site-packages/statsmodels/base/model.py:496: ConvergenceWarning: Maximum Likelihood optimization failed to converge. Check mle_retvals\n",
      "  \"Check mle_retvals\", ConvergenceWarning)\n"
     ]
    },
    {
     "name": "stdout",
     "output_type": "stream",
     "text": [
      "SARIMA(3, 3, 3)x(0, 2, 0, 12)12 - AIC:999.7546580556675\n"
     ]
    },
    {
     "name": "stderr",
     "output_type": "stream",
     "text": [
      "/home/wesley/anaconda3/lib/python3.6/site-packages/statsmodels/base/model.py:496: ConvergenceWarning: Maximum Likelihood optimization failed to converge. Check mle_retvals\n",
      "  \"Check mle_retvals\", ConvergenceWarning)\n"
     ]
    },
    {
     "name": "stdout",
     "output_type": "stream",
     "text": [
      "SARIMA(3, 3, 3)x(0, 3, 0, 12)12 - AIC:865.3979002741246\n",
      "SARIMA(3, 3, 3)x(1, 0, 0, 12)12 - AIC:nan\n",
      "SARIMA(3, 3, 3)x(1, 0, 1, 12)12 - AIC:nan\n"
     ]
    },
    {
     "name": "stderr",
     "output_type": "stream",
     "text": [
      "/home/wesley/anaconda3/lib/python3.6/site-packages/statsmodels/base/model.py:496: ConvergenceWarning: Maximum Likelihood optimization failed to converge. Check mle_retvals\n",
      "  \"Check mle_retvals\", ConvergenceWarning)\n"
     ]
    },
    {
     "name": "stdout",
     "output_type": "stream",
     "text": [
      "SARIMA(3, 3, 3)x(1, 1, 0, 12)12 - AIC:1094.1025963409948\n"
     ]
    },
    {
     "name": "stderr",
     "output_type": "stream",
     "text": [
      "/home/wesley/anaconda3/lib/python3.6/site-packages/statsmodels/base/model.py:496: ConvergenceWarning: Maximum Likelihood optimization failed to converge. Check mle_retvals\n",
      "  \"Check mle_retvals\", ConvergenceWarning)\n"
     ]
    },
    {
     "name": "stdout",
     "output_type": "stream",
     "text": [
      "SARIMA(3, 3, 3)x(1, 1, 1, 12)12 - AIC:1100.5186551752322\n",
      "SARIMA(3, 3, 3)x(2, 0, 0, 12)12 - AIC:nan\n",
      "SARIMA(3, 3, 3)x(2, 0, 1, 12)12 - AIC:nan\n"
     ]
    },
    {
     "name": "stderr",
     "output_type": "stream",
     "text": [
      "/home/wesley/anaconda3/lib/python3.6/site-packages/statsmodels/base/model.py:496: ConvergenceWarning: Maximum Likelihood optimization failed to converge. Check mle_retvals\n",
      "  \"Check mle_retvals\", ConvergenceWarning)\n"
     ]
    },
    {
     "name": "stdout",
     "output_type": "stream",
     "text": [
      "SARIMA(3, 3, 3)x(2, 1, 0, 12)12 - AIC:1087.8462667497897\n"
     ]
    },
    {
     "name": "stderr",
     "output_type": "stream",
     "text": [
      "/home/wesley/anaconda3/lib/python3.6/site-packages/statsmodels/base/model.py:496: ConvergenceWarning: Maximum Likelihood optimization failed to converge. Check mle_retvals\n",
      "  \"Check mle_retvals\", ConvergenceWarning)\n"
     ]
    },
    {
     "name": "stdout",
     "output_type": "stream",
     "text": [
      "SARIMA(3, 3, 3)x(2, 1, 1, 12)12 - AIC:1102.683647803062\n"
     ]
    },
    {
     "name": "stderr",
     "output_type": "stream",
     "text": [
      "/home/wesley/anaconda3/lib/python3.6/site-packages/statsmodels/base/model.py:496: ConvergenceWarning: Maximum Likelihood optimization failed to converge. Check mle_retvals\n",
      "  \"Check mle_retvals\", ConvergenceWarning)\n"
     ]
    },
    {
     "name": "stdout",
     "output_type": "stream",
     "text": [
      "SARIMA(3, 3, 3)x(2, 2, 0, 12)12 - AIC:973.4656865850508\n"
     ]
    },
    {
     "name": "stderr",
     "output_type": "stream",
     "text": [
      "/home/wesley/anaconda3/lib/python3.6/site-packages/statsmodels/base/model.py:496: ConvergenceWarning: Maximum Likelihood optimization failed to converge. Check mle_retvals\n",
      "  \"Check mle_retvals\", ConvergenceWarning)\n"
     ]
    },
    {
     "name": "stdout",
     "output_type": "stream",
     "text": [
      "SARIMA(3, 3, 3)x(2, 2, 1, 12)12 - AIC:991.503078013979\n",
      "SARIMA(3, 3, 3)x(3, 0, 1, 12)12 - AIC:nan\n"
     ]
    }
   ],
   "source": [
    "#search grig to best models\n",
    "best_model, best_pdq, best_seasonal_pdq = grid_sarima(y_train, pdq, seasonal_pdq)"
   ]
  },
  {
   "cell_type": "code",
   "execution_count": 19,
   "metadata": {},
   "outputs": [
    {
     "data": {
      "text/html": [
       "<div>\n",
       "<style>\n",
       "    .dataframe thead tr:only-child th {\n",
       "        text-align: right;\n",
       "    }\n",
       "\n",
       "    .dataframe thead th {\n",
       "        text-align: left;\n",
       "    }\n",
       "\n",
       "    .dataframe tbody tr th {\n",
       "        vertical-align: top;\n",
       "    }\n",
       "</style>\n",
       "<table border=\"1\" class=\"dataframe\">\n",
       "  <thead>\n",
       "    <tr style=\"text-align: right;\">\n",
       "      <th></th>\n",
       "      <th>AIC</th>\n",
       "      <th>Params</th>\n",
       "    </tr>\n",
       "  </thead>\n",
       "  <tbody>\n",
       "    <tr>\n",
       "      <th>18</th>\n",
       "      <td>849.251999</td>\n",
       "      <td>SARIMA(0, 1, 0)x(2, 3, 1, 12)</td>\n",
       "    </tr>\n",
       "    <tr>\n",
       "      <th>32</th>\n",
       "      <td>850.963302</td>\n",
       "      <td>SARIMA(0, 1, 1)x(2, 3, 1, 12)</td>\n",
       "    </tr>\n",
       "    <tr>\n",
       "      <th>46</th>\n",
       "      <td>853.350033</td>\n",
       "      <td>SARIMA(0, 1, 2)x(2, 3, 1, 12)</td>\n",
       "    </tr>\n",
       "    <tr>\n",
       "      <th>60</th>\n",
       "      <td>854.110219</td>\n",
       "      <td>SARIMA(0, 1, 3)x(2, 3, 1, 12)</td>\n",
       "    </tr>\n",
       "    <tr>\n",
       "      <th>179</th>\n",
       "      <td>849.247848</td>\n",
       "      <td>SARIMA(1, 1, 0)x(2, 3, 1, 12)</td>\n",
       "    </tr>\n",
       "    <tr>\n",
       "      <th>207</th>\n",
       "      <td>853.604163</td>\n",
       "      <td>SARIMA(1, 1, 2)x(2, 3, 1, 12)</td>\n",
       "    </tr>\n",
       "  </tbody>\n",
       "</table>\n",
       "</div>"
      ],
      "text/plain": [
       "            AIC                         Params\n",
       "18   849.251999  SARIMA(0, 1, 0)x(2, 3, 1, 12)\n",
       "32   850.963302  SARIMA(0, 1, 1)x(2, 3, 1, 12)\n",
       "46   853.350033  SARIMA(0, 1, 2)x(2, 3, 1, 12)\n",
       "60   854.110219  SARIMA(0, 1, 3)x(2, 3, 1, 12)\n",
       "179  849.247848  SARIMA(1, 1, 0)x(2, 3, 1, 12)\n",
       "207  853.604163  SARIMA(1, 1, 2)x(2, 3, 1, 12)"
      ]
     },
     "execution_count": 19,
     "metadata": {},
     "output_type": "execute_result"
    }
   ],
   "source": [
    "#best models and parameters\n",
    "best_model[best_model.AIC <= best_model.AIC.min()+5]"
   ]
  },
  {
   "cell_type": "code",
   "execution_count": 127,
   "metadata": {
    "scrolled": true
   },
   "outputs": [
    {
     "name": "stderr",
     "output_type": "stream",
     "text": [
      "/home/wesley/anaconda3/lib/python3.6/site-packages/statsmodels/base/model.py:496: ConvergenceWarning: Maximum Likelihood optimization failed to converge. Check mle_retvals\n",
      "  \"Check mle_retvals\", ConvergenceWarning)\n"
     ]
    },
    {
     "data": {
      "text/html": [
       "<table class=\"simpletable\">\n",
       "<caption>Statespace Model Results</caption>\n",
       "<tr>\n",
       "  <th>Dep. Variable:</th>                <td>count</td>             <th>  No. Observations:  </th>    <td>96</td>   \n",
       "</tr>\n",
       "<tr>\n",
       "  <th>Model:</th>           <td>SARIMAX(0, 1, 1)x(2, 3, 1, 12)</td> <th>  Log Likelihood     </th> <td>-420.482</td>\n",
       "</tr>\n",
       "<tr>\n",
       "  <th>Date:</th>                   <td>Tue, 05 Jun 2018</td>        <th>  AIC                </th>  <td>850.963</td>\n",
       "</tr>\n",
       "<tr>\n",
       "  <th>Time:</th>                       <td>11:52:52</td>            <th>  BIC                </th>  <td>863.785</td>\n",
       "</tr>\n",
       "<tr>\n",
       "  <th>Sample:</th>                    <td>01-01-2010</td>           <th>  HQIC               </th>  <td>856.146</td>\n",
       "</tr>\n",
       "<tr>\n",
       "  <th></th>                          <td>- 12-01-2017</td>          <th>                     </th>     <td> </td>   \n",
       "</tr>\n",
       "<tr>\n",
       "  <th>Covariance Type:</th>               <td>opg</td>              <th>                     </th>     <td> </td>   \n",
       "</tr>\n",
       "</table>\n",
       "<table class=\"simpletable\">\n",
       "<tr>\n",
       "      <td></td>        <th>coef</th>     <th>std err</th>      <th>z</th>      <th>P>|z|</th>  <th>[0.025</th>    <th>0.975]</th>  \n",
       "</tr>\n",
       "<tr>\n",
       "  <th>ma.L1</th>    <td>   -0.3122</td> <td>  167.662</td> <td>   -0.002</td> <td> 0.999</td> <td> -328.923</td> <td>  328.299</td>\n",
       "</tr>\n",
       "<tr>\n",
       "  <th>ar.S.L12</th> <td>   -1.1083</td> <td> 6327.157</td> <td>   -0.000</td> <td> 1.000</td> <td>-1.24e+04</td> <td> 1.24e+04</td>\n",
       "</tr>\n",
       "<tr>\n",
       "  <th>ar.S.L24</th> <td>   -0.1977</td> <td> 6055.782</td> <td>-3.26e-05</td> <td> 1.000</td> <td>-1.19e+04</td> <td> 1.19e+04</td>\n",
       "</tr>\n",
       "<tr>\n",
       "  <th>ma.S.L12</th> <td>   -0.2367</td> <td> 6835.182</td> <td>-3.46e-05</td> <td> 1.000</td> <td>-1.34e+04</td> <td> 1.34e+04</td>\n",
       "</tr>\n",
       "<tr>\n",
       "  <th>sigma2</th>   <td> 2.892e+04</td> <td>    0.910</td> <td> 3.18e+04</td> <td> 0.000</td> <td> 2.89e+04</td> <td> 2.89e+04</td>\n",
       "</tr>\n",
       "</table>\n",
       "<table class=\"simpletable\">\n",
       "<tr>\n",
       "  <th>Ljung-Box (Q):</th>          <td>37.90</td> <th>  Jarque-Bera (JB):  </th> <td>4.93</td>\n",
       "</tr>\n",
       "<tr>\n",
       "  <th>Prob(Q):</th>                <td>0.57</td>  <th>  Prob(JB):          </th> <td>0.08</td>\n",
       "</tr>\n",
       "<tr>\n",
       "  <th>Heteroskedasticity (H):</th> <td>22.04</td> <th>  Skew:              </th> <td>0.15</td>\n",
       "</tr>\n",
       "<tr>\n",
       "  <th>Prob(H) (two-sided):</th>    <td>0.00</td>  <th>  Kurtosis:          </th> <td>4.39</td>\n",
       "</tr>\n",
       "</table>"
      ],
      "text/plain": [
       "<class 'statsmodels.iolib.summary.Summary'>\n",
       "\"\"\"\n",
       "                                 Statespace Model Results                                 \n",
       "==========================================================================================\n",
       "Dep. Variable:                              count   No. Observations:                   96\n",
       "Model:             SARIMAX(0, 1, 1)x(2, 3, 1, 12)   Log Likelihood                -420.482\n",
       "Date:                            Tue, 05 Jun 2018   AIC                            850.963\n",
       "Time:                                    11:52:52   BIC                            863.785\n",
       "Sample:                                01-01-2010   HQIC                           856.146\n",
       "                                     - 12-01-2017                                         \n",
       "Covariance Type:                              opg                                         \n",
       "==============================================================================\n",
       "                 coef    std err          z      P>|z|      [0.025      0.975]\n",
       "------------------------------------------------------------------------------\n",
       "ma.L1         -0.3122    167.662     -0.002      0.999    -328.923     328.299\n",
       "ar.S.L12      -1.1083   6327.157     -0.000      1.000   -1.24e+04    1.24e+04\n",
       "ar.S.L24      -0.1977   6055.782  -3.26e-05      1.000   -1.19e+04    1.19e+04\n",
       "ma.S.L12      -0.2367   6835.182  -3.46e-05      1.000   -1.34e+04    1.34e+04\n",
       "sigma2      2.892e+04      0.910   3.18e+04      0.000    2.89e+04    2.89e+04\n",
       "===================================================================================\n",
       "Ljung-Box (Q):                       37.90   Jarque-Bera (JB):                 4.93\n",
       "Prob(Q):                              0.57   Prob(JB):                         0.08\n",
       "Heteroskedasticity (H):              22.04   Skew:                             0.15\n",
       "Prob(H) (two-sided):                  0.00   Kurtosis:                         4.39\n",
       "===================================================================================\n",
       "\n",
       "Warnings:\n",
       "[1] Covariance matrix calculated using the outer product of gradients (complex-step).\n",
       "[2] Covariance matrix is singular or near-singular, with condition number 9.37e+23. Standard errors may be unstable.\n",
       "\"\"\""
      ]
     },
     "execution_count": 127,
     "metadata": {},
     "output_type": "execute_result"
    }
   ],
   "source": [
    "#modeling\n",
    "model = tsa.statespace.sarimax.SARIMAX(y_train,\n",
    "                                           order=(0,1,1),\n",
    "                                           seasonal_order=(2,3,1,12),\n",
    "                                           enforce_stationarity=True,\n",
    "                                           enforce_invertibility=True)\n",
    "results = model.fit()\n",
    "results.summary()\n"
   ]
  },
  {
   "cell_type": "markdown",
   "metadata": {},
   "source": [
    "#### Diagnostic Checking\n",
    "\n",
    "\n",
    "##### Parameters\n",
    "\n",
    "Precisamos verificar se os parâmetros do modelo são significativos e contribuem para o modelo. Obtendoo summary do modelo temos os valores dos coeficientes, bem como, o erro padrão, a estatística z, o p-Valor da estatística e o intervalo de confiança. O teste de z testa a hipótese nula de que os parâmetros são semelhantes a 0, em contraste com  hipótese alternativa em que os parâmetros diferentes de 0. Quando o p-Valor é pequeno, nós podemos rejeitar a hipótese nula e concluir que os parâmetros são diferentes de 0 e então contribuem para o modelo. Com os intervalos de confiança podemos avaliar a estimativa de cada estimativa de parâmetro. Por exemplo, com um nível de confiança de 95%, é possível ter 95% de certeza de que o intervalo de confiança contém o valor do parâmetro para a população. Se for necessário determinar se uma estimativa de parâmetros é estatisticamente significativa, use os intervalos de confiança para os parâmetros. O parâmetro é estatisticamente significativo se o intervalo exclui o valor da hipótese nula. \n",
    "\n",
    "Para o modelo SARIMA(2,1,0)x(2,2,0)12 o p-Valor para os parâmetros é maior que 0,05, ou seja, não podemos rejeitar a hipótese de nulidade e o intervalo de confiança inclui o valor 0, dessa forma, vemos que os parâmetros não são estatisticamente diferentes de 0.\n",
    "\n",
    "##### Normally test\n",
    "\n",
    "Podemos testar a normalidade pelo Teste de aderência não paramétrico de Jarque-Bera. Quanto mais próximo de 0 for a estatística JB, maior a probabilidade da distribuição ser normal, Jarque e Bera demonstraram que para amostras grandes, ela também segue a distribuição Qui-quadrado bicaudal com 2 graus de liberdade. Podendo-se chegar então ao p valor da estatística calculada rejeitando-se a hipótese de normalidade se o p valor for menor que um determinado nível $\\alpha$.\n",
    "\n",
    "<div style=\"text-align:center\">\n",
    "$JB = n\\frac{S^2}{6} \\frac{(C-3)^2}{24}$\n",
    "</div>\n",
    "\n",
    "Em que, $JB$ é a estatística do teste, $S$ é a assimetria, $C$ é a curtose e $n$ é o tamanho da amostra. Os valores esperados para assimetria e curtose em uma distribuição normal são de 0 e 3 respectivamente.\n",
    "\n",
    "#### Test data set is independently distributed\n",
    "\n",
    "A estatística $Q$ de Ljung-Box  é usada para testar a hipótese nula $H_0$  de que o conjunto de dados é independentemente distribuído, ou seja, não são serialmente correlacionandos. A hipótese nula é rejeitada se o p-Vlor for menor que um nível $\\alpha$ ou se:\n",
    "\n",
    "<div style=\"text-align:center\">\n",
    "$Q < \\chi^2_{1-\\alpha}(v)$\n",
    "</div>\n",
    "\n",
    "em que, $v = (n-k)$."
   ]
  },
  {
   "cell_type": "code",
   "execution_count": 10,
   "metadata": {},
   "outputs": [
    {
     "data": {
      "text/plain": [
       "115.38978970826685"
      ]
     },
     "execution_count": 10,
     "metadata": {},
     "output_type": "execute_result"
    }
   ],
   "source": [
    "#Chi square test\n",
    "chi2.isf(q=0.05, df=92)"
   ]
  },
  {
   "cell_type": "markdown",
   "metadata": {},
   "source": [
    "Dessa forma, temos que os dados para ajustar o modelo SARIMA não são correlacionados, isto é, são um ruido branco.\n",
    "\n",
    "#### Heteroskedasticity\n",
    "\n",
    "A heterocedasticidade H está relacionada com a variância dos resíduos. Em relação a hipótese nula ela pode ser, unilaterala direita ou esquerda e bilateral. Quando consideramos a hipótese nula bilaterial verificamos se a variância não muda ao longo do tempo, ou seja, a soma de quadrados da amostra no instante $t$ não é maior em relação ao instante $t+1$, o mesmo acontece em relação ao intante $t-1$ para o instante $t$. Se o p-valor for inferior a um $\\alpha$ determinado, rejeita-se a\n",
    "hipótese de nulidade. \n",
    "\n",
    "#### Graphics diagnostic \n",
    "\n",
    "O objeto *res* possui um método para diagnóstico chamado *plot_diagnostic*. Este método permite o diagnóstico a partir de quatro gráficos. O gráfico dos resíduos estudentizados permiti verificar se as variâncias dos resíduos são heterogeneas. O histograma dos resíduos é plotado e a curva de desnidade é calculada a partir dos dados, uma curva adicional é plotada considerando a densidade da normal $N(0,1)$. A partir desse gráfico é possível verificar a normalidade dos resíduos, bem como, verificar os coeficientes de assimetria e curtose. A normalidade pode ser confirmada com o gráfico Q-Q, com ele é possível verificar se existe *outliers*. O último gráfico é o correlograma (gráfico de autocorrelação), mostra se os dados são correlacionados, quanto maior os resíduos, menor deve ser o valor das correlações.  "
   ]
  },
  {
   "cell_type": "code",
   "execution_count": 128,
   "metadata": {},
   "outputs": [
    {
     "data": {
      "image/png": "[encoded data removed]",
      "text/plain": [
       "<matplotlib.figure.Figure at 0x7fb55132e860>"
      ]
     },
     "metadata": {},
     "output_type": "display_data"
    }
   ],
   "source": [
    "results.plot_diagnostics(figsize=(14, 8))\n",
    "plt.tight_layout()\n",
    "plt.show()"
   ]
  },
  {
   "cell_type": "markdown",
   "metadata": {
    "collapsed": true
   },
   "source": [
    "### Prediction\n",
    "\n",
    "#### Predição um passo a frente"
   ]
  },
  {
   "cell_type": "code",
   "execution_count": 129,
   "metadata": {},
   "outputs": [
    {
     "data": {
      "image/png": "[encoded data removed]",
      "text/plain": [
       "<matplotlib.figure.Figure at 0x7fb551a6de10>"
      ]
     },
     "metadata": {},
     "output_type": "display_data"
    }
   ],
   "source": [
    "#predicted\n",
    "pred = results.get_prediction(start=pd.to_datetime('2017-12-01'),\n",
    "                             end=pd.to_datetime('2018-04-01'),\n",
    "                             dynamic=True)\n",
    "#intervalo de confianca\n",
    "pred_ci = pred.conf_int()\n",
    "\n",
    "#plot\n",
    "plt.figure(figsize=(12,8))\n",
    "ax = y[:-1].plot(label='Série Real', color='darkblue')\n",
    "pred.predicted_mean.plot(ax=ax, label='Série Estimada', color='darkgreen');\n",
    "\n",
    "#bandas do intervalo de confianca\n",
    "ax.fill_between(pred_ci.index, pred_ci.iloc[:, 0], pred_ci.iloc[:, 1], color='green', alpha=0.5);\n",
    "\n",
    "ax.set_xlabel('Tempo')\n",
    "ax.set_ylabel('Ações')\n",
    "plt.legend(loc='best');"
   ]
  },
  {
   "cell_type": "markdown",
   "metadata": {},
   "source": [
    "##### Root Mean Square Error (RMSE)\n",
    "\n",
    "Para medir o erro cometido pelo modelo calculamos o $RMSE$, assim temos uma medida na mesma unidade da variável de interesse.\n",
    "\n",
    "<div style='text-align:center'>\n",
    "$RMSE = \\sqrt{\\frac{1}{T} \\sum_{t=1}^{T}(\\hat{Z}_t-Z_t)^2}$\n",
    "</div>\n"
   ]
  },
  {
   "cell_type": "code",
   "execution_count": 92,
   "metadata": {},
   "outputs": [
    {
     "data": {
      "text/plain": [
       "198.87069771809362"
      ]
     },
     "execution_count": 92,
     "metadata": {},
     "output_type": "execute_result"
    }
   ],
   "source": [
    "#To dataset test\n",
    "rmse = np.sqrt(((pred.predicted_mean - y_test[:-1])**2).mean())\n",
    "rmse"
   ]
  },
  {
   "cell_type": "markdown",
   "metadata": {},
   "source": [
    "#### Previsão"
   ]
  },
  {
   "cell_type": "code",
   "execution_count": 123,
   "metadata": {},
   "outputs": [
    {
     "data": {
      "image/png": "[encoded data removed]",
      "text/plain": [
       "<matplotlib.figure.Figure at 0x7fb5513e2470>"
      ]
     },
     "metadata": {},
     "output_type": "display_data"
    }
   ],
   "source": [
    "#predicted\n",
    "pred_out = results.get_prediction(start=pd.to_datetime('2017-12-01'),\n",
    "                             end=pd.to_datetime('2018-04-01'),\n",
    "                             dynamic=False, full_results=True)\n",
    "#intervalo de confianca\n",
    "pred_ci_out = pred_out.conf_int()\n",
    "\n",
    "#plot\n",
    "plt.figure(figsize=(12,8))\n",
    "ax = y[:-1].plot(label='Série Real', color='darkblue')\n",
    "pred_out.predicted_mean.plot(ax=ax, label='Série Estimada', color='darkgreen');\n",
    "\n",
    "#bandas do intervalo de confianca\n",
    "ax.fill_between(pred_ci_out.index, pred_ci_out.iloc[:, 0], pred_ci_out.iloc[:, 1], color='green', alpha=0.5);\n",
    "ax.set_xlabel('Tempo')\n",
    "ax.set_ylabel('Ações')\n",
    "plt.legend(loc='best');"
   ]
  },
  {
   "cell_type": "code",
   "execution_count": 105,
   "metadata": {},
   "outputs": [
    {
     "data": {
      "text/plain": [
       "157.73316413765829"
      ]
     },
     "execution_count": 105,
     "metadata": {},
     "output_type": "execute_result"
    }
   ],
   "source": [
    "#To dataset test\n",
    "rmse_out = np.sqrt(((pred_out.predicted_mean - y_test[:-1])**2).mean())\n",
    "rmse_out"
   ]
  },
  {
   "cell_type": "code",
   "execution_count": 126,
   "metadata": {},
   "outputs": [
    {
     "data": {
      "image/png": "[encoded data removed]",
      "text/plain": [
       "<matplotlib.figure.Figure at 0x7fb551277e80>"
      ]
     },
     "metadata": {},
     "output_type": "display_data"
    }
   ],
   "source": [
    "ax=y_test[:'2018-04-01'].plot(label='Série Real', color='darkblue', figsize=(10, 6))\n",
    "pred_out.predicted_mean.plot(ax=ax,label='Previsão', color='darkgreen')\n",
    "ax.set_xlabel('Tempo')\n",
    "ax.set_ylabel('Ações')\n",
    "plt.legend(loc='upper left');\n",
    "plt.show()"
   ]
  },
  {
   "cell_type": "code",
   "execution_count": null,
   "metadata": {
    "collapsed": true
   },
   "outputs": [],
   "source": []
  }
 ],
 "metadata": {
  "kernelspec": {
   "display_name": "Python 3",
   "language": "python",
   "name": "python3"
  },
  "language_info": {
   "codemirror_mode": {
    "name": "ipython",
    "version": 3
   },
   "file_extension": ".py",
   "mimetype": "text/x-python",
   "name": "python",
   "nbconvert_exporter": "python",
   "pygments_lexer": "ipython3",
   "version": "3.6.13"
  }
 },
 "nbformat": 4,
 "nbformat_minor": 2
}
